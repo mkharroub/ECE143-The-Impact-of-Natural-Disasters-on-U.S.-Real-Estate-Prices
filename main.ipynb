{
 "cells": [
  {
   "cell_type": "code",
   "execution_count": 1,
   "metadata": {},
   "outputs": [],
   "source": [
    "import pandas as pd\n",
    "from scripts.extract import *\n",
    "from scripts.clean import *\n",
    "from scripts.plotly_plots import *\n",
    "from scripts.mpl_plots import *\n",
    "from scripts.stats import *\n",
    "import warnings\n",
    "\n",
    "warnings.filterwarnings(\"ignore\")"
   ]
  },
  {
   "cell_type": "code",
   "execution_count": 2,
   "metadata": {},
   "outputs": [
    {
     "data": {
      "text/html": [
       "<div>\n",
       "<style scoped>\n",
       "    .dataframe tbody tr th:only-of-type {\n",
       "        vertical-align: middle;\n",
       "    }\n",
       "\n",
       "    .dataframe tbody tr th {\n",
       "        vertical-align: top;\n",
       "    }\n",
       "\n",
       "    .dataframe thead th {\n",
       "        text-align: right;\n",
       "    }\n",
       "</style>\n",
       "<table border=\"1\" class=\"dataframe\">\n",
       "  <thead>\n",
       "    <tr style=\"text-align: right;\">\n",
       "      <th></th>\n",
       "      <th>BEGIN_YEARMONTH</th>\n",
       "      <th>BEGIN_DAY</th>\n",
       "      <th>BEGIN_TIME</th>\n",
       "      <th>END_YEARMONTH</th>\n",
       "      <th>END_DAY</th>\n",
       "      <th>END_TIME</th>\n",
       "      <th>EPISODE_ID</th>\n",
       "      <th>EVENT_ID</th>\n",
       "      <th>STATE</th>\n",
       "      <th>STATE_FIPS</th>\n",
       "      <th>...</th>\n",
       "      <th>END_RANGE</th>\n",
       "      <th>END_AZIMUTH</th>\n",
       "      <th>END_LOCATION</th>\n",
       "      <th>BEGIN_LAT</th>\n",
       "      <th>BEGIN_LON</th>\n",
       "      <th>END_LAT</th>\n",
       "      <th>END_LON</th>\n",
       "      <th>EPISODE_NARRATIVE</th>\n",
       "      <th>EVENT_NARRATIVE</th>\n",
       "      <th>DATA_SOURCE</th>\n",
       "    </tr>\n",
       "  </thead>\n",
       "  <tbody>\n",
       "    <tr>\n",
       "      <th>0</th>\n",
       "      <td>198004</td>\n",
       "      <td>13</td>\n",
       "      <td>30</td>\n",
       "      <td>198004</td>\n",
       "      <td>13</td>\n",
       "      <td>30</td>\n",
       "      <td>NaN</td>\n",
       "      <td>10046120</td>\n",
       "      <td>LOUISIANA</td>\n",
       "      <td>22.0</td>\n",
       "      <td>...</td>\n",
       "      <td>0.0</td>\n",
       "      <td>NaN</td>\n",
       "      <td>NaN</td>\n",
       "      <td>31.10</td>\n",
       "      <td>-92.40</td>\n",
       "      <td>NaN</td>\n",
       "      <td>NaN</td>\n",
       "      <td>NaN</td>\n",
       "      <td>NaN</td>\n",
       "      <td>PUB</td>\n",
       "    </tr>\n",
       "    <tr>\n",
       "      <th>1</th>\n",
       "      <td>198005</td>\n",
       "      <td>29</td>\n",
       "      <td>1410</td>\n",
       "      <td>198005</td>\n",
       "      <td>29</td>\n",
       "      <td>1410</td>\n",
       "      <td>NaN</td>\n",
       "      <td>10065016</td>\n",
       "      <td>NEBRASKA</td>\n",
       "      <td>31.0</td>\n",
       "      <td>...</td>\n",
       "      <td>0.0</td>\n",
       "      <td>NaN</td>\n",
       "      <td>NaN</td>\n",
       "      <td>42.78</td>\n",
       "      <td>-97.80</td>\n",
       "      <td>NaN</td>\n",
       "      <td>NaN</td>\n",
       "      <td>NaN</td>\n",
       "      <td>NaN</td>\n",
       "      <td>PUB</td>\n",
       "    </tr>\n",
       "    <tr>\n",
       "      <th>2</th>\n",
       "      <td>198007</td>\n",
       "      <td>22</td>\n",
       "      <td>10</td>\n",
       "      <td>198007</td>\n",
       "      <td>22</td>\n",
       "      <td>10</td>\n",
       "      <td>NaN</td>\n",
       "      <td>10065375</td>\n",
       "      <td>NEBRASKA</td>\n",
       "      <td>31.0</td>\n",
       "      <td>...</td>\n",
       "      <td>0.0</td>\n",
       "      <td>NaN</td>\n",
       "      <td>NaN</td>\n",
       "      <td>40.05</td>\n",
       "      <td>-101.53</td>\n",
       "      <td>NaN</td>\n",
       "      <td>NaN</td>\n",
       "      <td>NaN</td>\n",
       "      <td>NaN</td>\n",
       "      <td>PUB</td>\n",
       "    </tr>\n",
       "    <tr>\n",
       "      <th>3</th>\n",
       "      <td>198009</td>\n",
       "      <td>3</td>\n",
       "      <td>1830</td>\n",
       "      <td>198009</td>\n",
       "      <td>3</td>\n",
       "      <td>1830</td>\n",
       "      <td>NaN</td>\n",
       "      <td>10054907</td>\n",
       "      <td>MINNESOTA</td>\n",
       "      <td>27.0</td>\n",
       "      <td>...</td>\n",
       "      <td>0.0</td>\n",
       "      <td>NaN</td>\n",
       "      <td>NaN</td>\n",
       "      <td>44.78</td>\n",
       "      <td>-95.22</td>\n",
       "      <td>NaN</td>\n",
       "      <td>NaN</td>\n",
       "      <td>NaN</td>\n",
       "      <td>NaN</td>\n",
       "      <td>PUB</td>\n",
       "    </tr>\n",
       "    <tr>\n",
       "      <th>4</th>\n",
       "      <td>198009</td>\n",
       "      <td>17</td>\n",
       "      <td>830</td>\n",
       "      <td>198009</td>\n",
       "      <td>17</td>\n",
       "      <td>830</td>\n",
       "      <td>NaN</td>\n",
       "      <td>9975991</td>\n",
       "      <td>ALABAMA</td>\n",
       "      <td>1.0</td>\n",
       "      <td>...</td>\n",
       "      <td>0.0</td>\n",
       "      <td>NaN</td>\n",
       "      <td>NaN</td>\n",
       "      <td>32.93</td>\n",
       "      <td>-87.17</td>\n",
       "      <td>NaN</td>\n",
       "      <td>NaN</td>\n",
       "      <td>NaN</td>\n",
       "      <td>NaN</td>\n",
       "      <td>PUB</td>\n",
       "    </tr>\n",
       "  </tbody>\n",
       "</table>\n",
       "<p>5 rows × 51 columns</p>\n",
       "</div>"
      ],
      "text/plain": [
       "   BEGIN_YEARMONTH  BEGIN_DAY  BEGIN_TIME  END_YEARMONTH  END_DAY  END_TIME  \\\n",
       "0           198004         13          30         198004       13        30   \n",
       "1           198005         29        1410         198005       29      1410   \n",
       "2           198007         22          10         198007       22        10   \n",
       "3           198009          3        1830         198009        3      1830   \n",
       "4           198009         17         830         198009       17       830   \n",
       "\n",
       "   EPISODE_ID  EVENT_ID      STATE  STATE_FIPS  ...  END_RANGE END_AZIMUTH  \\\n",
       "0         NaN  10046120  LOUISIANA        22.0  ...        0.0         NaN   \n",
       "1         NaN  10065016   NEBRASKA        31.0  ...        0.0         NaN   \n",
       "2         NaN  10065375   NEBRASKA        31.0  ...        0.0         NaN   \n",
       "3         NaN  10054907  MINNESOTA        27.0  ...        0.0         NaN   \n",
       "4         NaN   9975991    ALABAMA         1.0  ...        0.0         NaN   \n",
       "\n",
       "  END_LOCATION BEGIN_LAT  BEGIN_LON END_LAT END_LON EPISODE_NARRATIVE  \\\n",
       "0          NaN     31.10     -92.40     NaN     NaN               NaN   \n",
       "1          NaN     42.78     -97.80     NaN     NaN               NaN   \n",
       "2          NaN     40.05    -101.53     NaN     NaN               NaN   \n",
       "3          NaN     44.78     -95.22     NaN     NaN               NaN   \n",
       "4          NaN     32.93     -87.17     NaN     NaN               NaN   \n",
       "\n",
       "  EVENT_NARRATIVE DATA_SOURCE  \n",
       "0             NaN         PUB  \n",
       "1             NaN         PUB  \n",
       "2             NaN         PUB  \n",
       "3             NaN         PUB  \n",
       "4             NaN         PUB  \n",
       "\n",
       "[5 rows x 51 columns]"
      ]
     },
     "execution_count": 2,
     "metadata": {},
     "output_type": "execute_result"
    }
   ],
   "source": [
    "storm_database = read_all_zipped_csv(\"/dataset/*.csv.gz\")\n",
    "storm_database.head()"
   ]
  },
  {
   "cell_type": "code",
   "execution_count": 3,
   "metadata": {},
   "outputs": [
    {
     "data": {
      "text/plain": [
       "(1782208, 51)"
      ]
     },
     "execution_count": 3,
     "metadata": {},
     "output_type": "execute_result"
    }
   ],
   "source": [
    "storm_database.shape"
   ]
  },
  {
   "cell_type": "code",
   "execution_count": 4,
   "metadata": {},
   "outputs": [
    {
     "data": {
      "text/html": [
       "<div>\n",
       "<style scoped>\n",
       "    .dataframe tbody tr th:only-of-type {\n",
       "        vertical-align: middle;\n",
       "    }\n",
       "\n",
       "    .dataframe tbody tr th {\n",
       "        vertical-align: top;\n",
       "    }\n",
       "\n",
       "    .dataframe thead th {\n",
       "        text-align: right;\n",
       "    }\n",
       "</style>\n",
       "<table border=\"1\" class=\"dataframe\">\n",
       "  <thead>\n",
       "    <tr style=\"text-align: right;\">\n",
       "      <th></th>\n",
       "      <th>EVENT_ID</th>\n",
       "      <th>STATE</th>\n",
       "      <th>STATE_FIPS</th>\n",
       "      <th>YEAR</th>\n",
       "      <th>MONTH_NAME</th>\n",
       "      <th>EVENT_TYPE</th>\n",
       "      <th>CZ_TYPE</th>\n",
       "      <th>CZ_FIPS</th>\n",
       "      <th>CZ_NAME</th>\n",
       "      <th>WFO</th>\n",
       "      <th>BEGIN_DATE_TIME</th>\n",
       "    </tr>\n",
       "  </thead>\n",
       "  <tbody>\n",
       "    <tr>\n",
       "      <th>0</th>\n",
       "      <td>10046120</td>\n",
       "      <td>LOUISIANA</td>\n",
       "      <td>22.0</td>\n",
       "      <td>1980</td>\n",
       "      <td>April</td>\n",
       "      <td>Hail</td>\n",
       "      <td>C</td>\n",
       "      <td>79</td>\n",
       "      <td>RAPIDES</td>\n",
       "      <td>T</td>\n",
       "      <td>13-APR-80 00:30:00</td>\n",
       "    </tr>\n",
       "    <tr>\n",
       "      <th>1</th>\n",
       "      <td>10065016</td>\n",
       "      <td>NEBRASKA</td>\n",
       "      <td>31.0</td>\n",
       "      <td>1980</td>\n",
       "      <td>May</td>\n",
       "      <td>Hail</td>\n",
       "      <td>C</td>\n",
       "      <td>107</td>\n",
       "      <td>KNOX</td>\n",
       "      <td>NG</td>\n",
       "      <td>29-MAY-80 14:10:00</td>\n",
       "    </tr>\n",
       "    <tr>\n",
       "      <th>2</th>\n",
       "      <td>10065375</td>\n",
       "      <td>NEBRASKA</td>\n",
       "      <td>31.0</td>\n",
       "      <td>1980</td>\n",
       "      <td>July</td>\n",
       "      <td>Thunderstorm Wind</td>\n",
       "      <td>C</td>\n",
       "      <td>57</td>\n",
       "      <td>DUNDY</td>\n",
       "      <td>ATA</td>\n",
       "      <td>22-JUL-80 00:10:00</td>\n",
       "    </tr>\n",
       "    <tr>\n",
       "      <th>3</th>\n",
       "      <td>10054907</td>\n",
       "      <td>MINNESOTA</td>\n",
       "      <td>27.0</td>\n",
       "      <td>1980</td>\n",
       "      <td>September</td>\n",
       "      <td>Thunderstorm Wind</td>\n",
       "      <td>C</td>\n",
       "      <td>129</td>\n",
       "      <td>RENVILLE</td>\n",
       "      <td>NG</td>\n",
       "      <td>03-SEP-80 18:30:00</td>\n",
       "    </tr>\n",
       "    <tr>\n",
       "      <th>4</th>\n",
       "      <td>9975991</td>\n",
       "      <td>ALABAMA</td>\n",
       "      <td>1.0</td>\n",
       "      <td>1980</td>\n",
       "      <td>September</td>\n",
       "      <td>Thunderstorm Wind</td>\n",
       "      <td>C</td>\n",
       "      <td>7</td>\n",
       "      <td>BIBB</td>\n",
       "      <td>TS</td>\n",
       "      <td>17-SEP-80 08:30:00</td>\n",
       "    </tr>\n",
       "    <tr>\n",
       "      <th>5</th>\n",
       "      <td>9975992</td>\n",
       "      <td>ALABAMA</td>\n",
       "      <td>1.0</td>\n",
       "      <td>1980</td>\n",
       "      <td>November</td>\n",
       "      <td>Tornado</td>\n",
       "      <td>C</td>\n",
       "      <td>3</td>\n",
       "      <td>BALDWIN</td>\n",
       "      <td>NaN</td>\n",
       "      <td>23-NOV-80 14:30:00</td>\n",
       "    </tr>\n",
       "    <tr>\n",
       "      <th>6</th>\n",
       "      <td>10075651</td>\n",
       "      <td>NEW YORK</td>\n",
       "      <td>36.0</td>\n",
       "      <td>1980</td>\n",
       "      <td>June</td>\n",
       "      <td>Hail</td>\n",
       "      <td>C</td>\n",
       "      <td>37</td>\n",
       "      <td>GENESEE</td>\n",
       "      <td>RY</td>\n",
       "      <td>26-JUN-80 18:50:00</td>\n",
       "    </tr>\n",
       "    <tr>\n",
       "      <th>7</th>\n",
       "      <td>10058560</td>\n",
       "      <td>MISSOURI</td>\n",
       "      <td>29.0</td>\n",
       "      <td>1980</td>\n",
       "      <td>May</td>\n",
       "      <td>Thunderstorm Wind</td>\n",
       "      <td>C</td>\n",
       "      <td>39</td>\n",
       "      <td>CEDAR</td>\n",
       "      <td>T</td>\n",
       "      <td>26-MAY-80 16:55:00</td>\n",
       "    </tr>\n",
       "  </tbody>\n",
       "</table>\n",
       "</div>"
      ],
      "text/plain": [
       "   EVENT_ID      STATE  STATE_FIPS  YEAR MONTH_NAME         EVENT_TYPE  \\\n",
       "0  10046120  LOUISIANA        22.0  1980      April               Hail   \n",
       "1  10065016   NEBRASKA        31.0  1980        May               Hail   \n",
       "2  10065375   NEBRASKA        31.0  1980       July  Thunderstorm Wind   \n",
       "3  10054907  MINNESOTA        27.0  1980  September  Thunderstorm Wind   \n",
       "4   9975991    ALABAMA         1.0  1980  September  Thunderstorm Wind   \n",
       "5   9975992    ALABAMA         1.0  1980   November            Tornado   \n",
       "6  10075651   NEW YORK        36.0  1980       June               Hail   \n",
       "7  10058560   MISSOURI        29.0  1980        May  Thunderstorm Wind   \n",
       "\n",
       "  CZ_TYPE  CZ_FIPS   CZ_NAME  WFO     BEGIN_DATE_TIME  \n",
       "0       C       79   RAPIDES    T  13-APR-80 00:30:00  \n",
       "1       C      107      KNOX   NG  29-MAY-80 14:10:00  \n",
       "2       C       57     DUNDY  ATA  22-JUL-80 00:10:00  \n",
       "3       C      129  RENVILLE   NG  03-SEP-80 18:30:00  \n",
       "4       C        7      BIBB   TS  17-SEP-80 08:30:00  \n",
       "5       C        3   BALDWIN  NaN  23-NOV-80 14:30:00  \n",
       "6       C       37   GENESEE   RY  26-JUN-80 18:50:00  \n",
       "7       C       39     CEDAR    T  26-MAY-80 16:55:00  "
      ]
     },
     "execution_count": 4,
     "metadata": {},
     "output_type": "execute_result"
    }
   ],
   "source": [
    "storm_database.iloc[0:8,7:18]"
   ]
  },
  {
   "cell_type": "code",
   "execution_count": 5,
   "metadata": {},
   "outputs": [],
   "source": [
    "storm_database['DAMAGE_P'] = storm_database['DAMAGE_PROPERTY'].apply(convert_to_numeric)\n",
    "storm_database['DAMAGE_C'] = storm_database['DAMAGE_CROPS'].apply(convert_to_numeric)\n",
    "storm_database.dropna(subset=['DAMAGE_P','DAMAGE_C'], inplace=True)\n",
    "storm_database['DAMAGE_P'] =  storm_database['DAMAGE_P'] / 1000000\n",
    "storm_database['DAMAGE_C'] =  storm_database['DAMAGE_C'] / 1000000\n",
    "storm_database['DAMAGE'] = storm_database['DAMAGE_P'] + storm_database['DAMAGE_C']\n",
    "storm = storm_database.copy()"
   ]
  },
  {
   "cell_type": "code",
   "execution_count": 6,
   "metadata": {},
   "outputs": [],
   "source": [
    "storm['STATE'] = storm['STATE'].str.title()\n",
    "state_freq = storm.groupby('STATE')['EVENT_ID'].count()"
   ]
  },
  {
   "cell_type": "code",
   "execution_count": 7,
   "metadata": {},
   "outputs": [
    {
     "data": {
      "text/html": [
       "<div>\n",
       "<style scoped>\n",
       "    .dataframe tbody tr th:only-of-type {\n",
       "        vertical-align: middle;\n",
       "    }\n",
       "\n",
       "    .dataframe tbody tr th {\n",
       "        vertical-align: top;\n",
       "    }\n",
       "\n",
       "    .dataframe thead th {\n",
       "        text-align: right;\n",
       "    }\n",
       "</style>\n",
       "<table border=\"1\" class=\"dataframe\">\n",
       "  <thead>\n",
       "    <tr style=\"text-align: right;\">\n",
       "      <th></th>\n",
       "      <th>STATEFP</th>\n",
       "      <th>STATENS</th>\n",
       "      <th>AFFGEOID</th>\n",
       "      <th>GEOID</th>\n",
       "      <th>STUSPS</th>\n",
       "      <th>NAME</th>\n",
       "      <th>LSAD</th>\n",
       "      <th>ALAND</th>\n",
       "      <th>AWATER</th>\n",
       "      <th>geometry</th>\n",
       "    </tr>\n",
       "  </thead>\n",
       "  <tbody>\n",
       "    <tr>\n",
       "      <th>0</th>\n",
       "      <td>35</td>\n",
       "      <td>00897535</td>\n",
       "      <td>0400000US35</td>\n",
       "      <td>35</td>\n",
       "      <td>NM</td>\n",
       "      <td>New Mexico</td>\n",
       "      <td>00</td>\n",
       "      <td>314198573403</td>\n",
       "      <td>726463825</td>\n",
       "      <td>POLYGON ((-109.05017 31.48000, -109.04984 31.4...</td>\n",
       "    </tr>\n",
       "    <tr>\n",
       "      <th>1</th>\n",
       "      <td>46</td>\n",
       "      <td>01785534</td>\n",
       "      <td>0400000US46</td>\n",
       "      <td>46</td>\n",
       "      <td>SD</td>\n",
       "      <td>South Dakota</td>\n",
       "      <td>00</td>\n",
       "      <td>196341552329</td>\n",
       "      <td>3387681983</td>\n",
       "      <td>POLYGON ((-104.05788 44.99761, -104.05078 44.9...</td>\n",
       "    </tr>\n",
       "    <tr>\n",
       "      <th>2</th>\n",
       "      <td>06</td>\n",
       "      <td>01779778</td>\n",
       "      <td>0400000US06</td>\n",
       "      <td>06</td>\n",
       "      <td>CA</td>\n",
       "      <td>California</td>\n",
       "      <td>00</td>\n",
       "      <td>403673617862</td>\n",
       "      <td>20291712025</td>\n",
       "      <td>MULTIPOLYGON (((-118.60442 33.47855, -118.5987...</td>\n",
       "    </tr>\n",
       "    <tr>\n",
       "      <th>3</th>\n",
       "      <td>21</td>\n",
       "      <td>01779786</td>\n",
       "      <td>0400000US21</td>\n",
       "      <td>21</td>\n",
       "      <td>KY</td>\n",
       "      <td>Kentucky</td>\n",
       "      <td>00</td>\n",
       "      <td>102266581101</td>\n",
       "      <td>2384240769</td>\n",
       "      <td>MULTIPOLYGON (((-89.40565 36.52817, -89.39869 ...</td>\n",
       "    </tr>\n",
       "    <tr>\n",
       "      <th>4</th>\n",
       "      <td>01</td>\n",
       "      <td>01779775</td>\n",
       "      <td>0400000US01</td>\n",
       "      <td>01</td>\n",
       "      <td>AL</td>\n",
       "      <td>Alabama</td>\n",
       "      <td>00</td>\n",
       "      <td>131185042550</td>\n",
       "      <td>4582333181</td>\n",
       "      <td>MULTIPOLYGON (((-88.05338 30.50699, -88.05109 ...</td>\n",
       "    </tr>\n",
       "  </tbody>\n",
       "</table>\n",
       "</div>"
      ],
      "text/plain": [
       "  STATEFP   STATENS     AFFGEOID GEOID STUSPS          NAME LSAD  \\\n",
       "0      35  00897535  0400000US35    35     NM    New Mexico   00   \n",
       "1      46  01785534  0400000US46    46     SD  South Dakota   00   \n",
       "2      06  01779778  0400000US06    06     CA    California   00   \n",
       "3      21  01779786  0400000US21    21     KY      Kentucky   00   \n",
       "4      01  01779775  0400000US01    01     AL       Alabama   00   \n",
       "\n",
       "          ALAND       AWATER  \\\n",
       "0  314198573403    726463825   \n",
       "1  196341552329   3387681983   \n",
       "2  403673617862  20291712025   \n",
       "3  102266581101   2384240769   \n",
       "4  131185042550   4582333181   \n",
       "\n",
       "                                            geometry  \n",
       "0  POLYGON ((-109.05017 31.48000, -109.04984 31.4...  \n",
       "1  POLYGON ((-104.05788 44.99761, -104.05078 44.9...  \n",
       "2  MULTIPOLYGON (((-118.60442 33.47855, -118.5987...  \n",
       "3  MULTIPOLYGON (((-89.40565 36.52817, -89.39869 ...  \n",
       "4  MULTIPOLYGON (((-88.05338 30.50699, -88.05109 ...  "
      ]
     },
     "execution_count": 7,
     "metadata": {},
     "output_type": "execute_result"
    }
   ],
   "source": [
    "gdf = read_gpd_file(\"/dataset/cb_2022_us_state_500k\")\n",
    "gdf.head()"
   ]
  },
  {
   "cell_type": "code",
   "execution_count": 8,
   "metadata": {},
   "outputs": [
    {
     "name": "stdout",
     "output_type": "stream",
     "text": [
      "{'District of Columbia', 'United States Virgin Islands', 'Commonwealth of the Northern Mariana Islands'}\n",
      "{'Lake Huron', 'Lake St Clair', 'Lake Michigan', 'Lake Ontario', 'Atlantic North', 'Gulf Of Mexico', 'St Lawrence R', 'Gulf Of Alaska', 'District Of Columbia', 'Lake Superior', 'Atlantic South', 'E Pacific', 'Lake Erie', 'Virgin Islands', 'Hawaii Waters'}\n"
     ]
    }
   ],
   "source": [
    "state_gdf = list(gdf.NAME.unique())\n",
    "state_storm = state_freq.index.to_list()\n",
    "state_same = []\n",
    "for s in state_storm:\n",
    "    if s in state_gdf:\n",
    "        state_same.append(s)\n",
    "state_gdf_l = set(state_gdf) - set(state_same)\n",
    "state_storm_l = set(state_storm) - set(state_same)\n",
    "print(state_gdf_l)\n",
    "print(state_storm_l)"
   ]
  },
  {
   "cell_type": "code",
   "execution_count": 9,
   "metadata": {},
   "outputs": [
    {
     "data": {
      "text/plain": [
       "(1027339, 54)"
      ]
     },
     "execution_count": 9,
     "metadata": {},
     "output_type": "execute_result"
    }
   ],
   "source": [
    "storm = storm[ ~ storm['STATE'].isin(state_storm_l)]\n",
    "storm = storm[ ~ storm['STATE'].isin(['American Samoa','Guam'])]\n",
    "storm.shape"
   ]
  },
  {
   "cell_type": "code",
   "execution_count": 10,
   "metadata": {},
   "outputs": [
    {
     "data": {
      "text/plain": [
       "0"
      ]
     },
     "execution_count": 10,
     "metadata": {},
     "output_type": "execute_result"
    }
   ],
   "source": [
    "gdf_state = gdf[['STUSPS','NAME']]\n",
    "storm = pd.merge(storm, gdf_state, left_on='STATE', right_on='NAME', how='left')\n",
    "storm['STUSPS'].isnull().sum()"
   ]
  },
  {
   "cell_type": "code",
   "execution_count": 11,
   "metadata": {},
   "outputs": [],
   "source": [
    "year_freq = storm.groupby('YEAR')['EVENT_ID'].count()\n",
    "year_list = year_freq.index.to_list()\n",
    "year_freq = list(year_freq)\n",
    "year_damage = storm.groupby('YEAR')['DAMAGE'].sum()\n",
    "year_damage = list(year_damage)\n",
    "year_damage = [ damage / 1000 for damage in year_damage]"
   ]
  },
  {
   "cell_type": "code",
   "execution_count": 12,
   "metadata": {},
   "outputs": [
    {
     "data": {
      "application/vnd.plotly.v1+json": {
       "config": {
        "plotlyServerURL": "https://plot.ly"
       },
       "data": [
        {
         "marker": {
          "color": "orange"
         },
         "name": "Damage($Billions)",
         "type": "bar",
         "x": [
          1980,
          1981,
          1982,
          1983,
          1984,
          1985,
          1986,
          1987,
          1988,
          1989,
          1990,
          1991,
          1992,
          1993,
          1994,
          1995,
          1996,
          1997,
          1998,
          1999,
          2000,
          2001,
          2002,
          2003,
          2004,
          2005,
          2006,
          2007,
          2008,
          2009,
          2010,
          2011,
          2012,
          2013,
          2014,
          2015,
          2016,
          2017,
          2018,
          2019,
          2020,
          2021,
          2022,
          2023
         ],
         "y": [
          2.1528143500000003,
          0.76588831,
          1.429193,
          0.76585559,
          2.13117139,
          1.60809721,
          1.03491234,
          0.40783795,
          1.1242146499999999,
          1.76005105,
          1.56056807,
          1.15229643,
          1.4066888999999998,
          1.710163252,
          2.2166130945,
          2.0181985902,
          2.1310547200000003,
          1.18808835,
          5.443322060000001,
          2.7914301999999998,
          1.82555185,
          0.8305426300000001,
          1.16746616,
          1.94387456,
          3.47226115,
          9.21516805,
          3.50953385,
          11.3443522,
          14.93288733,
          6.50782708,
          7.598201090000001,
          13.479447669999999,
          15.640996719999999,
          11.0995782,
          4.81090566,
          3.8688857899999998,
          10.07106552,
          28.34085478,
          14.64325697,
          6.00226666,
          13.54881599,
          16.47876614,
          5.64060982,
          5.49980183
         ]
        },
        {
         "marker": {
          "color": "blue"
         },
         "mode": "lines",
         "name": "Frequency",
         "type": "scatter",
         "x": [
          1980,
          1981,
          1982,
          1983,
          1984,
          1985,
          1986,
          1987,
          1988,
          1989,
          1990,
          1991,
          1992,
          1993,
          1994,
          1995,
          1996,
          1997,
          1998,
          1999,
          2000,
          2001,
          2002,
          2003,
          2004,
          2005,
          2006,
          2007,
          2008,
          2009,
          2010,
          2011,
          2012,
          2013,
          2014,
          2015,
          2016,
          2017,
          2018,
          2019,
          2020,
          2021,
          2022,
          2023
         ],
         "y": [
          6132,
          4516,
          7125,
          8322,
          7334,
          7977,
          8724,
          7361,
          7254,
          10404,
          10939,
          12511,
          13525,
          8657,
          15608,
          20451,
          2293,
          3317,
          4993,
          3083,
          3612,
          3489,
          3473,
          4085,
          3895,
          3924,
          11366,
          52443,
          61170,
          46442,
          48476,
          61236,
          47800,
          48058,
          46529,
          44829,
          41449,
          43324,
          47302,
          51445,
          44284,
          44615,
          49477,
          44090
         ],
         "yaxis": "y2"
        }
       ],
       "layout": {
        "height": 500,
        "legend": {
         "font": {
          "size": 16
         },
         "x": 0.02,
         "y": 1
        },
        "template": {
         "data": {
          "bar": [
           {
            "error_x": {
             "color": "#2a3f5f"
            },
            "error_y": {
             "color": "#2a3f5f"
            },
            "marker": {
             "line": {
              "color": "#E5ECF6",
              "width": 0.5
             },
             "pattern": {
              "fillmode": "overlay",
              "size": 10,
              "solidity": 0.2
             }
            },
            "type": "bar"
           }
          ],
          "barpolar": [
           {
            "marker": {
             "line": {
              "color": "#E5ECF6",
              "width": 0.5
             },
             "pattern": {
              "fillmode": "overlay",
              "size": 10,
              "solidity": 0.2
             }
            },
            "type": "barpolar"
           }
          ],
          "carpet": [
           {
            "aaxis": {
             "endlinecolor": "#2a3f5f",
             "gridcolor": "white",
             "linecolor": "white",
             "minorgridcolor": "white",
             "startlinecolor": "#2a3f5f"
            },
            "baxis": {
             "endlinecolor": "#2a3f5f",
             "gridcolor": "white",
             "linecolor": "white",
             "minorgridcolor": "white",
             "startlinecolor": "#2a3f5f"
            },
            "type": "carpet"
           }
          ],
          "choropleth": [
           {
            "colorbar": {
             "outlinewidth": 0,
             "ticks": ""
            },
            "type": "choropleth"
           }
          ],
          "contour": [
           {
            "colorbar": {
             "outlinewidth": 0,
             "ticks": ""
            },
            "colorscale": [
             [
              0,
              "#0d0887"
             ],
             [
              0.1111111111111111,
              "#46039f"
             ],
             [
              0.2222222222222222,
              "#7201a8"
             ],
             [
              0.3333333333333333,
              "#9c179e"
             ],
             [
              0.4444444444444444,
              "#bd3786"
             ],
             [
              0.5555555555555556,
              "#d8576b"
             ],
             [
              0.6666666666666666,
              "#ed7953"
             ],
             [
              0.7777777777777778,
              "#fb9f3a"
             ],
             [
              0.8888888888888888,
              "#fdca26"
             ],
             [
              1,
              "#f0f921"
             ]
            ],
            "type": "contour"
           }
          ],
          "contourcarpet": [
           {
            "colorbar": {
             "outlinewidth": 0,
             "ticks": ""
            },
            "type": "contourcarpet"
           }
          ],
          "heatmap": [
           {
            "colorbar": {
             "outlinewidth": 0,
             "ticks": ""
            },
            "colorscale": [
             [
              0,
              "#0d0887"
             ],
             [
              0.1111111111111111,
              "#46039f"
             ],
             [
              0.2222222222222222,
              "#7201a8"
             ],
             [
              0.3333333333333333,
              "#9c179e"
             ],
             [
              0.4444444444444444,
              "#bd3786"
             ],
             [
              0.5555555555555556,
              "#d8576b"
             ],
             [
              0.6666666666666666,
              "#ed7953"
             ],
             [
              0.7777777777777778,
              "#fb9f3a"
             ],
             [
              0.8888888888888888,
              "#fdca26"
             ],
             [
              1,
              "#f0f921"
             ]
            ],
            "type": "heatmap"
           }
          ],
          "heatmapgl": [
           {
            "colorbar": {
             "outlinewidth": 0,
             "ticks": ""
            },
            "colorscale": [
             [
              0,
              "#0d0887"
             ],
             [
              0.1111111111111111,
              "#46039f"
             ],
             [
              0.2222222222222222,
              "#7201a8"
             ],
             [
              0.3333333333333333,
              "#9c179e"
             ],
             [
              0.4444444444444444,
              "#bd3786"
             ],
             [
              0.5555555555555556,
              "#d8576b"
             ],
             [
              0.6666666666666666,
              "#ed7953"
             ],
             [
              0.7777777777777778,
              "#fb9f3a"
             ],
             [
              0.8888888888888888,
              "#fdca26"
             ],
             [
              1,
              "#f0f921"
             ]
            ],
            "type": "heatmapgl"
           }
          ],
          "histogram": [
           {
            "marker": {
             "pattern": {
              "fillmode": "overlay",
              "size": 10,
              "solidity": 0.2
             }
            },
            "type": "histogram"
           }
          ],
          "histogram2d": [
           {
            "colorbar": {
             "outlinewidth": 0,
             "ticks": ""
            },
            "colorscale": [
             [
              0,
              "#0d0887"
             ],
             [
              0.1111111111111111,
              "#46039f"
             ],
             [
              0.2222222222222222,
              "#7201a8"
             ],
             [
              0.3333333333333333,
              "#9c179e"
             ],
             [
              0.4444444444444444,
              "#bd3786"
             ],
             [
              0.5555555555555556,
              "#d8576b"
             ],
             [
              0.6666666666666666,
              "#ed7953"
             ],
             [
              0.7777777777777778,
              "#fb9f3a"
             ],
             [
              0.8888888888888888,
              "#fdca26"
             ],
             [
              1,
              "#f0f921"
             ]
            ],
            "type": "histogram2d"
           }
          ],
          "histogram2dcontour": [
           {
            "colorbar": {
             "outlinewidth": 0,
             "ticks": ""
            },
            "colorscale": [
             [
              0,
              "#0d0887"
             ],
             [
              0.1111111111111111,
              "#46039f"
             ],
             [
              0.2222222222222222,
              "#7201a8"
             ],
             [
              0.3333333333333333,
              "#9c179e"
             ],
             [
              0.4444444444444444,
              "#bd3786"
             ],
             [
              0.5555555555555556,
              "#d8576b"
             ],
             [
              0.6666666666666666,
              "#ed7953"
             ],
             [
              0.7777777777777778,
              "#fb9f3a"
             ],
             [
              0.8888888888888888,
              "#fdca26"
             ],
             [
              1,
              "#f0f921"
             ]
            ],
            "type": "histogram2dcontour"
           }
          ],
          "mesh3d": [
           {
            "colorbar": {
             "outlinewidth": 0,
             "ticks": ""
            },
            "type": "mesh3d"
           }
          ],
          "parcoords": [
           {
            "line": {
             "colorbar": {
              "outlinewidth": 0,
              "ticks": ""
             }
            },
            "type": "parcoords"
           }
          ],
          "pie": [
           {
            "automargin": true,
            "type": "pie"
           }
          ],
          "scatter": [
           {
            "marker": {
             "colorbar": {
              "outlinewidth": 0,
              "ticks": ""
             }
            },
            "type": "scatter"
           }
          ],
          "scatter3d": [
           {
            "line": {
             "colorbar": {
              "outlinewidth": 0,
              "ticks": ""
             }
            },
            "marker": {
             "colorbar": {
              "outlinewidth": 0,
              "ticks": ""
             }
            },
            "type": "scatter3d"
           }
          ],
          "scattercarpet": [
           {
            "marker": {
             "colorbar": {
              "outlinewidth": 0,
              "ticks": ""
             }
            },
            "type": "scattercarpet"
           }
          ],
          "scattergeo": [
           {
            "marker": {
             "colorbar": {
              "outlinewidth": 0,
              "ticks": ""
             }
            },
            "type": "scattergeo"
           }
          ],
          "scattergl": [
           {
            "marker": {
             "colorbar": {
              "outlinewidth": 0,
              "ticks": ""
             }
            },
            "type": "scattergl"
           }
          ],
          "scattermapbox": [
           {
            "marker": {
             "colorbar": {
              "outlinewidth": 0,
              "ticks": ""
             }
            },
            "type": "scattermapbox"
           }
          ],
          "scatterpolar": [
           {
            "marker": {
             "colorbar": {
              "outlinewidth": 0,
              "ticks": ""
             }
            },
            "type": "scatterpolar"
           }
          ],
          "scatterpolargl": [
           {
            "marker": {
             "colorbar": {
              "outlinewidth": 0,
              "ticks": ""
             }
            },
            "type": "scatterpolargl"
           }
          ],
          "scatterternary": [
           {
            "marker": {
             "colorbar": {
              "outlinewidth": 0,
              "ticks": ""
             }
            },
            "type": "scatterternary"
           }
          ],
          "surface": [
           {
            "colorbar": {
             "outlinewidth": 0,
             "ticks": ""
            },
            "colorscale": [
             [
              0,
              "#0d0887"
             ],
             [
              0.1111111111111111,
              "#46039f"
             ],
             [
              0.2222222222222222,
              "#7201a8"
             ],
             [
              0.3333333333333333,
              "#9c179e"
             ],
             [
              0.4444444444444444,
              "#bd3786"
             ],
             [
              0.5555555555555556,
              "#d8576b"
             ],
             [
              0.6666666666666666,
              "#ed7953"
             ],
             [
              0.7777777777777778,
              "#fb9f3a"
             ],
             [
              0.8888888888888888,
              "#fdca26"
             ],
             [
              1,
              "#f0f921"
             ]
            ],
            "type": "surface"
           }
          ],
          "table": [
           {
            "cells": {
             "fill": {
              "color": "#EBF0F8"
             },
             "line": {
              "color": "white"
             }
            },
            "header": {
             "fill": {
              "color": "#C8D4E3"
             },
             "line": {
              "color": "white"
             }
            },
            "type": "table"
           }
          ]
         },
         "layout": {
          "annotationdefaults": {
           "arrowcolor": "#2a3f5f",
           "arrowhead": 0,
           "arrowwidth": 1
          },
          "autotypenumbers": "strict",
          "coloraxis": {
           "colorbar": {
            "outlinewidth": 0,
            "ticks": ""
           }
          },
          "colorscale": {
           "diverging": [
            [
             0,
             "#8e0152"
            ],
            [
             0.1,
             "#c51b7d"
            ],
            [
             0.2,
             "#de77ae"
            ],
            [
             0.3,
             "#f1b6da"
            ],
            [
             0.4,
             "#fde0ef"
            ],
            [
             0.5,
             "#f7f7f7"
            ],
            [
             0.6,
             "#e6f5d0"
            ],
            [
             0.7,
             "#b8e186"
            ],
            [
             0.8,
             "#7fbc41"
            ],
            [
             0.9,
             "#4d9221"
            ],
            [
             1,
             "#276419"
            ]
           ],
           "sequential": [
            [
             0,
             "#0d0887"
            ],
            [
             0.1111111111111111,
             "#46039f"
            ],
            [
             0.2222222222222222,
             "#7201a8"
            ],
            [
             0.3333333333333333,
             "#9c179e"
            ],
            [
             0.4444444444444444,
             "#bd3786"
            ],
            [
             0.5555555555555556,
             "#d8576b"
            ],
            [
             0.6666666666666666,
             "#ed7953"
            ],
            [
             0.7777777777777778,
             "#fb9f3a"
            ],
            [
             0.8888888888888888,
             "#fdca26"
            ],
            [
             1,
             "#f0f921"
            ]
           ],
           "sequentialminus": [
            [
             0,
             "#0d0887"
            ],
            [
             0.1111111111111111,
             "#46039f"
            ],
            [
             0.2222222222222222,
             "#7201a8"
            ],
            [
             0.3333333333333333,
             "#9c179e"
            ],
            [
             0.4444444444444444,
             "#bd3786"
            ],
            [
             0.5555555555555556,
             "#d8576b"
            ],
            [
             0.6666666666666666,
             "#ed7953"
            ],
            [
             0.7777777777777778,
             "#fb9f3a"
            ],
            [
             0.8888888888888888,
             "#fdca26"
            ],
            [
             1,
             "#f0f921"
            ]
           ]
          },
          "colorway": [
           "#636efa",
           "#EF553B",
           "#00cc96",
           "#ab63fa",
           "#FFA15A",
           "#19d3f3",
           "#FF6692",
           "#B6E880",
           "#FF97FF",
           "#FECB52"
          ],
          "font": {
           "color": "#2a3f5f"
          },
          "geo": {
           "bgcolor": "white",
           "lakecolor": "white",
           "landcolor": "#E5ECF6",
           "showlakes": true,
           "showland": true,
           "subunitcolor": "white"
          },
          "hoverlabel": {
           "align": "left"
          },
          "hovermode": "closest",
          "mapbox": {
           "style": "light"
          },
          "paper_bgcolor": "white",
          "plot_bgcolor": "#E5ECF6",
          "polar": {
           "angularaxis": {
            "gridcolor": "white",
            "linecolor": "white",
            "ticks": ""
           },
           "bgcolor": "#E5ECF6",
           "radialaxis": {
            "gridcolor": "white",
            "linecolor": "white",
            "ticks": ""
           }
          },
          "scene": {
           "xaxis": {
            "backgroundcolor": "#E5ECF6",
            "gridcolor": "white",
            "gridwidth": 2,
            "linecolor": "white",
            "showbackground": true,
            "ticks": "",
            "zerolinecolor": "white"
           },
           "yaxis": {
            "backgroundcolor": "#E5ECF6",
            "gridcolor": "white",
            "gridwidth": 2,
            "linecolor": "white",
            "showbackground": true,
            "ticks": "",
            "zerolinecolor": "white"
           },
           "zaxis": {
            "backgroundcolor": "#E5ECF6",
            "gridcolor": "white",
            "gridwidth": 2,
            "linecolor": "white",
            "showbackground": true,
            "ticks": "",
            "zerolinecolor": "white"
           }
          },
          "shapedefaults": {
           "line": {
            "color": "#2a3f5f"
           }
          },
          "ternary": {
           "aaxis": {
            "gridcolor": "white",
            "linecolor": "white",
            "ticks": ""
           },
           "baxis": {
            "gridcolor": "white",
            "linecolor": "white",
            "ticks": ""
           },
           "bgcolor": "#E5ECF6",
           "caxis": {
            "gridcolor": "white",
            "linecolor": "white",
            "ticks": ""
           }
          },
          "title": {
           "x": 0.05
          },
          "xaxis": {
           "automargin": true,
           "gridcolor": "white",
           "linecolor": "white",
           "ticks": "",
           "title": {
            "standoff": 15
           },
           "zerolinecolor": "white",
           "zerolinewidth": 2
          },
          "yaxis": {
           "automargin": true,
           "gridcolor": "white",
           "linecolor": "white",
           "ticks": "",
           "title": {
            "standoff": 15
           },
           "zerolinecolor": "white",
           "zerolinewidth": 2
          }
         }
        },
        "title": {
         "font": {
          "size": 30
         },
         "text": "Frequency and Damage of Natural Disasters 1980-2023",
         "x": 0.5
        },
        "width": 1000,
        "xaxis": {
         "tickfont": {
          "size": 16
         },
         "title": {
          "font": {
           "size": 20
          },
          "text": "Year"
         }
        },
        "yaxis": {
         "tickfont": {
          "size": 16
         },
         "title": {
          "font": {
           "color": "orange",
           "size": 20
          },
          "text": "Damage($Billions)"
         }
        },
        "yaxis2": {
         "overlaying": "y",
         "side": "right",
         "tickfont": {
          "size": 16
         },
         "title": {
          "font": {
           "color": "blue",
           "size": 20
          },
          "text": "Frequency"
         }
        }
       }
      }
     },
     "metadata": {},
     "output_type": "display_data"
    }
   ],
   "source": [
    "plot_bar_and_line(year_list, year_damage, year_freq, 'Damage($Billions)', 'Frequency', 'Frequency and Damage of Natural Disasters 1980-2023', 'Year', 'Damage($Billions)', 'Frequency', \"Frequency_and_Damage_of_Natural_Disasters_1980-2023.html\")"
   ]
  },
  {
   "cell_type": "code",
   "execution_count": 13,
   "metadata": {},
   "outputs": [],
   "source": [
    "event_type_freq = storm.groupby(['EVENT_TYPE'])['EVENT_ID'].count()\n",
    "event_type_freq.sort_values(ascending = False, inplace=True)\n",
    "event_type_top = event_type_freq[:5]"
   ]
  },
  {
   "cell_type": "code",
   "execution_count": 14,
   "metadata": {},
   "outputs": [
    {
     "data": {
      "application/vnd.plotly.v1+json": {
       "config": {
        "plotlyServerURL": "https://plot.ly"
       },
       "data": [
        {
         "alignmentgroup": "True",
         "hovertemplate": "%{x}: %{text}",
         "legendgroup": "",
         "marker": {
          "color": "orange",
          "pattern": {
           "shape": ""
          }
         },
         "name": "",
         "offsetgroup": "",
         "orientation": "v",
         "showlegend": false,
         "text": [
          "303,004",
          "209,009",
          "68,053",
          "49,079",
          "48,798"
         ],
         "textfont": {
          "size": 15
         },
         "textposition": "outside",
         "type": "bar",
         "x": [
          "Thunderstorm<br>Wind",
          "Hail",
          "Flash<br>Flood",
          "High<br>Wind",
          "Winter<br>Weather"
         ],
         "xaxis": "x",
         "y": [
          303004,
          209009,
          68053,
          49079,
          48798
         ],
         "yaxis": "y"
        }
       ],
       "layout": {
        "bargap": 0.5,
        "bargroupgap": 0.1,
        "barmode": "group",
        "height": 570,
        "legend": {
         "tracegroupgap": 0
        },
        "template": {
         "data": {
          "bar": [
           {
            "error_x": {
             "color": "#2a3f5f"
            },
            "error_y": {
             "color": "#2a3f5f"
            },
            "marker": {
             "line": {
              "color": "#E5ECF6",
              "width": 0.5
             },
             "pattern": {
              "fillmode": "overlay",
              "size": 10,
              "solidity": 0.2
             }
            },
            "type": "bar"
           }
          ],
          "barpolar": [
           {
            "marker": {
             "line": {
              "color": "#E5ECF6",
              "width": 0.5
             },
             "pattern": {
              "fillmode": "overlay",
              "size": 10,
              "solidity": 0.2
             }
            },
            "type": "barpolar"
           }
          ],
          "carpet": [
           {
            "aaxis": {
             "endlinecolor": "#2a3f5f",
             "gridcolor": "white",
             "linecolor": "white",
             "minorgridcolor": "white",
             "startlinecolor": "#2a3f5f"
            },
            "baxis": {
             "endlinecolor": "#2a3f5f",
             "gridcolor": "white",
             "linecolor": "white",
             "minorgridcolor": "white",
             "startlinecolor": "#2a3f5f"
            },
            "type": "carpet"
           }
          ],
          "choropleth": [
           {
            "colorbar": {
             "outlinewidth": 0,
             "ticks": ""
            },
            "type": "choropleth"
           }
          ],
          "contour": [
           {
            "colorbar": {
             "outlinewidth": 0,
             "ticks": ""
            },
            "colorscale": [
             [
              0,
              "#0d0887"
             ],
             [
              0.1111111111111111,
              "#46039f"
             ],
             [
              0.2222222222222222,
              "#7201a8"
             ],
             [
              0.3333333333333333,
              "#9c179e"
             ],
             [
              0.4444444444444444,
              "#bd3786"
             ],
             [
              0.5555555555555556,
              "#d8576b"
             ],
             [
              0.6666666666666666,
              "#ed7953"
             ],
             [
              0.7777777777777778,
              "#fb9f3a"
             ],
             [
              0.8888888888888888,
              "#fdca26"
             ],
             [
              1,
              "#f0f921"
             ]
            ],
            "type": "contour"
           }
          ],
          "contourcarpet": [
           {
            "colorbar": {
             "outlinewidth": 0,
             "ticks": ""
            },
            "type": "contourcarpet"
           }
          ],
          "heatmap": [
           {
            "colorbar": {
             "outlinewidth": 0,
             "ticks": ""
            },
            "colorscale": [
             [
              0,
              "#0d0887"
             ],
             [
              0.1111111111111111,
              "#46039f"
             ],
             [
              0.2222222222222222,
              "#7201a8"
             ],
             [
              0.3333333333333333,
              "#9c179e"
             ],
             [
              0.4444444444444444,
              "#bd3786"
             ],
             [
              0.5555555555555556,
              "#d8576b"
             ],
             [
              0.6666666666666666,
              "#ed7953"
             ],
             [
              0.7777777777777778,
              "#fb9f3a"
             ],
             [
              0.8888888888888888,
              "#fdca26"
             ],
             [
              1,
              "#f0f921"
             ]
            ],
            "type": "heatmap"
           }
          ],
          "heatmapgl": [
           {
            "colorbar": {
             "outlinewidth": 0,
             "ticks": ""
            },
            "colorscale": [
             [
              0,
              "#0d0887"
             ],
             [
              0.1111111111111111,
              "#46039f"
             ],
             [
              0.2222222222222222,
              "#7201a8"
             ],
             [
              0.3333333333333333,
              "#9c179e"
             ],
             [
              0.4444444444444444,
              "#bd3786"
             ],
             [
              0.5555555555555556,
              "#d8576b"
             ],
             [
              0.6666666666666666,
              "#ed7953"
             ],
             [
              0.7777777777777778,
              "#fb9f3a"
             ],
             [
              0.8888888888888888,
              "#fdca26"
             ],
             [
              1,
              "#f0f921"
             ]
            ],
            "type": "heatmapgl"
           }
          ],
          "histogram": [
           {
            "marker": {
             "pattern": {
              "fillmode": "overlay",
              "size": 10,
              "solidity": 0.2
             }
            },
            "type": "histogram"
           }
          ],
          "histogram2d": [
           {
            "colorbar": {
             "outlinewidth": 0,
             "ticks": ""
            },
            "colorscale": [
             [
              0,
              "#0d0887"
             ],
             [
              0.1111111111111111,
              "#46039f"
             ],
             [
              0.2222222222222222,
              "#7201a8"
             ],
             [
              0.3333333333333333,
              "#9c179e"
             ],
             [
              0.4444444444444444,
              "#bd3786"
             ],
             [
              0.5555555555555556,
              "#d8576b"
             ],
             [
              0.6666666666666666,
              "#ed7953"
             ],
             [
              0.7777777777777778,
              "#fb9f3a"
             ],
             [
              0.8888888888888888,
              "#fdca26"
             ],
             [
              1,
              "#f0f921"
             ]
            ],
            "type": "histogram2d"
           }
          ],
          "histogram2dcontour": [
           {
            "colorbar": {
             "outlinewidth": 0,
             "ticks": ""
            },
            "colorscale": [
             [
              0,
              "#0d0887"
             ],
             [
              0.1111111111111111,
              "#46039f"
             ],
             [
              0.2222222222222222,
              "#7201a8"
             ],
             [
              0.3333333333333333,
              "#9c179e"
             ],
             [
              0.4444444444444444,
              "#bd3786"
             ],
             [
              0.5555555555555556,
              "#d8576b"
             ],
             [
              0.6666666666666666,
              "#ed7953"
             ],
             [
              0.7777777777777778,
              "#fb9f3a"
             ],
             [
              0.8888888888888888,
              "#fdca26"
             ],
             [
              1,
              "#f0f921"
             ]
            ],
            "type": "histogram2dcontour"
           }
          ],
          "mesh3d": [
           {
            "colorbar": {
             "outlinewidth": 0,
             "ticks": ""
            },
            "type": "mesh3d"
           }
          ],
          "parcoords": [
           {
            "line": {
             "colorbar": {
              "outlinewidth": 0,
              "ticks": ""
             }
            },
            "type": "parcoords"
           }
          ],
          "pie": [
           {
            "automargin": true,
            "type": "pie"
           }
          ],
          "scatter": [
           {
            "marker": {
             "colorbar": {
              "outlinewidth": 0,
              "ticks": ""
             }
            },
            "type": "scatter"
           }
          ],
          "scatter3d": [
           {
            "line": {
             "colorbar": {
              "outlinewidth": 0,
              "ticks": ""
             }
            },
            "marker": {
             "colorbar": {
              "outlinewidth": 0,
              "ticks": ""
             }
            },
            "type": "scatter3d"
           }
          ],
          "scattercarpet": [
           {
            "marker": {
             "colorbar": {
              "outlinewidth": 0,
              "ticks": ""
             }
            },
            "type": "scattercarpet"
           }
          ],
          "scattergeo": [
           {
            "marker": {
             "colorbar": {
              "outlinewidth": 0,
              "ticks": ""
             }
            },
            "type": "scattergeo"
           }
          ],
          "scattergl": [
           {
            "marker": {
             "colorbar": {
              "outlinewidth": 0,
              "ticks": ""
             }
            },
            "type": "scattergl"
           }
          ],
          "scattermapbox": [
           {
            "marker": {
             "colorbar": {
              "outlinewidth": 0,
              "ticks": ""
             }
            },
            "type": "scattermapbox"
           }
          ],
          "scatterpolar": [
           {
            "marker": {
             "colorbar": {
              "outlinewidth": 0,
              "ticks": ""
             }
            },
            "type": "scatterpolar"
           }
          ],
          "scatterpolargl": [
           {
            "marker": {
             "colorbar": {
              "outlinewidth": 0,
              "ticks": ""
             }
            },
            "type": "scatterpolargl"
           }
          ],
          "scatterternary": [
           {
            "marker": {
             "colorbar": {
              "outlinewidth": 0,
              "ticks": ""
             }
            },
            "type": "scatterternary"
           }
          ],
          "surface": [
           {
            "colorbar": {
             "outlinewidth": 0,
             "ticks": ""
            },
            "colorscale": [
             [
              0,
              "#0d0887"
             ],
             [
              0.1111111111111111,
              "#46039f"
             ],
             [
              0.2222222222222222,
              "#7201a8"
             ],
             [
              0.3333333333333333,
              "#9c179e"
             ],
             [
              0.4444444444444444,
              "#bd3786"
             ],
             [
              0.5555555555555556,
              "#d8576b"
             ],
             [
              0.6666666666666666,
              "#ed7953"
             ],
             [
              0.7777777777777778,
              "#fb9f3a"
             ],
             [
              0.8888888888888888,
              "#fdca26"
             ],
             [
              1,
              "#f0f921"
             ]
            ],
            "type": "surface"
           }
          ],
          "table": [
           {
            "cells": {
             "fill": {
              "color": "#EBF0F8"
             },
             "line": {
              "color": "white"
             }
            },
            "header": {
             "fill": {
              "color": "#C8D4E3"
             },
             "line": {
              "color": "white"
             }
            },
            "type": "table"
           }
          ]
         },
         "layout": {
          "annotationdefaults": {
           "arrowcolor": "#2a3f5f",
           "arrowhead": 0,
           "arrowwidth": 1
          },
          "autotypenumbers": "strict",
          "coloraxis": {
           "colorbar": {
            "outlinewidth": 0,
            "ticks": ""
           }
          },
          "colorscale": {
           "diverging": [
            [
             0,
             "#8e0152"
            ],
            [
             0.1,
             "#c51b7d"
            ],
            [
             0.2,
             "#de77ae"
            ],
            [
             0.3,
             "#f1b6da"
            ],
            [
             0.4,
             "#fde0ef"
            ],
            [
             0.5,
             "#f7f7f7"
            ],
            [
             0.6,
             "#e6f5d0"
            ],
            [
             0.7,
             "#b8e186"
            ],
            [
             0.8,
             "#7fbc41"
            ],
            [
             0.9,
             "#4d9221"
            ],
            [
             1,
             "#276419"
            ]
           ],
           "sequential": [
            [
             0,
             "#0d0887"
            ],
            [
             0.1111111111111111,
             "#46039f"
            ],
            [
             0.2222222222222222,
             "#7201a8"
            ],
            [
             0.3333333333333333,
             "#9c179e"
            ],
            [
             0.4444444444444444,
             "#bd3786"
            ],
            [
             0.5555555555555556,
             "#d8576b"
            ],
            [
             0.6666666666666666,
             "#ed7953"
            ],
            [
             0.7777777777777778,
             "#fb9f3a"
            ],
            [
             0.8888888888888888,
             "#fdca26"
            ],
            [
             1,
             "#f0f921"
            ]
           ],
           "sequentialminus": [
            [
             0,
             "#0d0887"
            ],
            [
             0.1111111111111111,
             "#46039f"
            ],
            [
             0.2222222222222222,
             "#7201a8"
            ],
            [
             0.3333333333333333,
             "#9c179e"
            ],
            [
             0.4444444444444444,
             "#bd3786"
            ],
            [
             0.5555555555555556,
             "#d8576b"
            ],
            [
             0.6666666666666666,
             "#ed7953"
            ],
            [
             0.7777777777777778,
             "#fb9f3a"
            ],
            [
             0.8888888888888888,
             "#fdca26"
            ],
            [
             1,
             "#f0f921"
            ]
           ]
          },
          "colorway": [
           "#636efa",
           "#EF553B",
           "#00cc96",
           "#ab63fa",
           "#FFA15A",
           "#19d3f3",
           "#FF6692",
           "#B6E880",
           "#FF97FF",
           "#FECB52"
          ],
          "font": {
           "color": "#2a3f5f"
          },
          "geo": {
           "bgcolor": "white",
           "lakecolor": "white",
           "landcolor": "#E5ECF6",
           "showlakes": true,
           "showland": true,
           "subunitcolor": "white"
          },
          "hoverlabel": {
           "align": "left"
          },
          "hovermode": "closest",
          "mapbox": {
           "style": "light"
          },
          "paper_bgcolor": "white",
          "plot_bgcolor": "#E5ECF6",
          "polar": {
           "angularaxis": {
            "gridcolor": "white",
            "linecolor": "white",
            "ticks": ""
           },
           "bgcolor": "#E5ECF6",
           "radialaxis": {
            "gridcolor": "white",
            "linecolor": "white",
            "ticks": ""
           }
          },
          "scene": {
           "xaxis": {
            "backgroundcolor": "#E5ECF6",
            "gridcolor": "white",
            "gridwidth": 2,
            "linecolor": "white",
            "showbackground": true,
            "ticks": "",
            "zerolinecolor": "white"
           },
           "yaxis": {
            "backgroundcolor": "#E5ECF6",
            "gridcolor": "white",
            "gridwidth": 2,
            "linecolor": "white",
            "showbackground": true,
            "ticks": "",
            "zerolinecolor": "white"
           },
           "zaxis": {
            "backgroundcolor": "#E5ECF6",
            "gridcolor": "white",
            "gridwidth": 2,
            "linecolor": "white",
            "showbackground": true,
            "ticks": "",
            "zerolinecolor": "white"
           }
          },
          "shapedefaults": {
           "line": {
            "color": "#2a3f5f"
           }
          },
          "ternary": {
           "aaxis": {
            "gridcolor": "white",
            "linecolor": "white",
            "ticks": ""
           },
           "baxis": {
            "gridcolor": "white",
            "linecolor": "white",
            "ticks": ""
           },
           "bgcolor": "#E5ECF6",
           "caxis": {
            "gridcolor": "white",
            "linecolor": "white",
            "ticks": ""
           }
          },
          "title": {
           "x": 0.05
          },
          "xaxis": {
           "automargin": true,
           "gridcolor": "white",
           "linecolor": "white",
           "ticks": "",
           "title": {
            "standoff": 15
           },
           "zerolinecolor": "white",
           "zerolinewidth": 2
          },
          "yaxis": {
           "automargin": true,
           "gridcolor": "white",
           "linecolor": "white",
           "ticks": "",
           "title": {
            "standoff": 15
           },
           "zerolinecolor": "white",
           "zerolinewidth": 2
          }
         }
        },
        "title": {
         "font": {
          "size": 30
         },
         "text": "Top 5 Most Common Climate Disasters",
         "x": 0.5
        },
        "width": 700,
        "xaxis": {
         "anchor": "y",
         "domain": [
          0,
          1
         ],
         "tickfont": {
          "size": 16
         },
         "title": {
          "text": ""
         }
        },
        "yaxis": {
         "anchor": "x",
         "domain": [
          0,
          1
         ],
         "side": "top",
         "tickfont": {
          "size": 16
         },
         "title": {
          "font": {
           "size": 20
          },
          "text": "Frequency"
         }
        }
       }
      }
     },
     "metadata": {},
     "output_type": "display_data"
    }
   ],
   "source": [
    "plot_bar_chart(event_type_top.index.to_list(), event_type_top.values, 'Top 5 Most Common Climate Disasters','Frequency','Top 5 Most Common Climate Disasters.html')"
   ]
  },
  {
   "cell_type": "code",
   "execution_count": 15,
   "metadata": {},
   "outputs": [
    {
     "data": {
      "application/vnd.plotly.v1+json": {
       "config": {
        "plotlyServerURL": "https://plot.ly"
       },
       "data": [
        {
         "alignmentgroup": "True",
         "hovertemplate": "%{x}: %{text}",
         "legendgroup": "",
         "marker": {
          "color": "orange",
          "pattern": {
           "shape": ""
          }
         },
         "name": "",
         "offsetgroup": "",
         "orientation": "v",
         "showlegend": false,
         "text": [
          "42.7",
          "38.6",
          "28.5",
          "27.1",
          "20.2"
         ],
         "textfont": {
          "size": 15
         },
         "textposition": "outside",
         "type": "bar",
         "x": [
          "Flash<br>Flood",
          "Tornado",
          "Flood",
          "Hurricane",
          "Hail"
         ],
         "xaxis": "x",
         "y": [
          42.7,
          38.6,
          28.5,
          27.1,
          20.2
         ],
         "yaxis": "y"
        }
       ],
       "layout": {
        "bargap": 0.5,
        "bargroupgap": 0.1,
        "barmode": "group",
        "height": 570,
        "legend": {
         "tracegroupgap": 0
        },
        "template": {
         "data": {
          "bar": [
           {
            "error_x": {
             "color": "#2a3f5f"
            },
            "error_y": {
             "color": "#2a3f5f"
            },
            "marker": {
             "line": {
              "color": "#E5ECF6",
              "width": 0.5
             },
             "pattern": {
              "fillmode": "overlay",
              "size": 10,
              "solidity": 0.2
             }
            },
            "type": "bar"
           }
          ],
          "barpolar": [
           {
            "marker": {
             "line": {
              "color": "#E5ECF6",
              "width": 0.5
             },
             "pattern": {
              "fillmode": "overlay",
              "size": 10,
              "solidity": 0.2
             }
            },
            "type": "barpolar"
           }
          ],
          "carpet": [
           {
            "aaxis": {
             "endlinecolor": "#2a3f5f",
             "gridcolor": "white",
             "linecolor": "white",
             "minorgridcolor": "white",
             "startlinecolor": "#2a3f5f"
            },
            "baxis": {
             "endlinecolor": "#2a3f5f",
             "gridcolor": "white",
             "linecolor": "white",
             "minorgridcolor": "white",
             "startlinecolor": "#2a3f5f"
            },
            "type": "carpet"
           }
          ],
          "choropleth": [
           {
            "colorbar": {
             "outlinewidth": 0,
             "ticks": ""
            },
            "type": "choropleth"
           }
          ],
          "contour": [
           {
            "colorbar": {
             "outlinewidth": 0,
             "ticks": ""
            },
            "colorscale": [
             [
              0,
              "#0d0887"
             ],
             [
              0.1111111111111111,
              "#46039f"
             ],
             [
              0.2222222222222222,
              "#7201a8"
             ],
             [
              0.3333333333333333,
              "#9c179e"
             ],
             [
              0.4444444444444444,
              "#bd3786"
             ],
             [
              0.5555555555555556,
              "#d8576b"
             ],
             [
              0.6666666666666666,
              "#ed7953"
             ],
             [
              0.7777777777777778,
              "#fb9f3a"
             ],
             [
              0.8888888888888888,
              "#fdca26"
             ],
             [
              1,
              "#f0f921"
             ]
            ],
            "type": "contour"
           }
          ],
          "contourcarpet": [
           {
            "colorbar": {
             "outlinewidth": 0,
             "ticks": ""
            },
            "type": "contourcarpet"
           }
          ],
          "heatmap": [
           {
            "colorbar": {
             "outlinewidth": 0,
             "ticks": ""
            },
            "colorscale": [
             [
              0,
              "#0d0887"
             ],
             [
              0.1111111111111111,
              "#46039f"
             ],
             [
              0.2222222222222222,
              "#7201a8"
             ],
             [
              0.3333333333333333,
              "#9c179e"
             ],
             [
              0.4444444444444444,
              "#bd3786"
             ],
             [
              0.5555555555555556,
              "#d8576b"
             ],
             [
              0.6666666666666666,
              "#ed7953"
             ],
             [
              0.7777777777777778,
              "#fb9f3a"
             ],
             [
              0.8888888888888888,
              "#fdca26"
             ],
             [
              1,
              "#f0f921"
             ]
            ],
            "type": "heatmap"
           }
          ],
          "heatmapgl": [
           {
            "colorbar": {
             "outlinewidth": 0,
             "ticks": ""
            },
            "colorscale": [
             [
              0,
              "#0d0887"
             ],
             [
              0.1111111111111111,
              "#46039f"
             ],
             [
              0.2222222222222222,
              "#7201a8"
             ],
             [
              0.3333333333333333,
              "#9c179e"
             ],
             [
              0.4444444444444444,
              "#bd3786"
             ],
             [
              0.5555555555555556,
              "#d8576b"
             ],
             [
              0.6666666666666666,
              "#ed7953"
             ],
             [
              0.7777777777777778,
              "#fb9f3a"
             ],
             [
              0.8888888888888888,
              "#fdca26"
             ],
             [
              1,
              "#f0f921"
             ]
            ],
            "type": "heatmapgl"
           }
          ],
          "histogram": [
           {
            "marker": {
             "pattern": {
              "fillmode": "overlay",
              "size": 10,
              "solidity": 0.2
             }
            },
            "type": "histogram"
           }
          ],
          "histogram2d": [
           {
            "colorbar": {
             "outlinewidth": 0,
             "ticks": ""
            },
            "colorscale": [
             [
              0,
              "#0d0887"
             ],
             [
              0.1111111111111111,
              "#46039f"
             ],
             [
              0.2222222222222222,
              "#7201a8"
             ],
             [
              0.3333333333333333,
              "#9c179e"
             ],
             [
              0.4444444444444444,
              "#bd3786"
             ],
             [
              0.5555555555555556,
              "#d8576b"
             ],
             [
              0.6666666666666666,
              "#ed7953"
             ],
             [
              0.7777777777777778,
              "#fb9f3a"
             ],
             [
              0.8888888888888888,
              "#fdca26"
             ],
             [
              1,
              "#f0f921"
             ]
            ],
            "type": "histogram2d"
           }
          ],
          "histogram2dcontour": [
           {
            "colorbar": {
             "outlinewidth": 0,
             "ticks": ""
            },
            "colorscale": [
             [
              0,
              "#0d0887"
             ],
             [
              0.1111111111111111,
              "#46039f"
             ],
             [
              0.2222222222222222,
              "#7201a8"
             ],
             [
              0.3333333333333333,
              "#9c179e"
             ],
             [
              0.4444444444444444,
              "#bd3786"
             ],
             [
              0.5555555555555556,
              "#d8576b"
             ],
             [
              0.6666666666666666,
              "#ed7953"
             ],
             [
              0.7777777777777778,
              "#fb9f3a"
             ],
             [
              0.8888888888888888,
              "#fdca26"
             ],
             [
              1,
              "#f0f921"
             ]
            ],
            "type": "histogram2dcontour"
           }
          ],
          "mesh3d": [
           {
            "colorbar": {
             "outlinewidth": 0,
             "ticks": ""
            },
            "type": "mesh3d"
           }
          ],
          "parcoords": [
           {
            "line": {
             "colorbar": {
              "outlinewidth": 0,
              "ticks": ""
             }
            },
            "type": "parcoords"
           }
          ],
          "pie": [
           {
            "automargin": true,
            "type": "pie"
           }
          ],
          "scatter": [
           {
            "marker": {
             "colorbar": {
              "outlinewidth": 0,
              "ticks": ""
             }
            },
            "type": "scatter"
           }
          ],
          "scatter3d": [
           {
            "line": {
             "colorbar": {
              "outlinewidth": 0,
              "ticks": ""
             }
            },
            "marker": {
             "colorbar": {
              "outlinewidth": 0,
              "ticks": ""
             }
            },
            "type": "scatter3d"
           }
          ],
          "scattercarpet": [
           {
            "marker": {
             "colorbar": {
              "outlinewidth": 0,
              "ticks": ""
             }
            },
            "type": "scattercarpet"
           }
          ],
          "scattergeo": [
           {
            "marker": {
             "colorbar": {
              "outlinewidth": 0,
              "ticks": ""
             }
            },
            "type": "scattergeo"
           }
          ],
          "scattergl": [
           {
            "marker": {
             "colorbar": {
              "outlinewidth": 0,
              "ticks": ""
             }
            },
            "type": "scattergl"
           }
          ],
          "scattermapbox": [
           {
            "marker": {
             "colorbar": {
              "outlinewidth": 0,
              "ticks": ""
             }
            },
            "type": "scattermapbox"
           }
          ],
          "scatterpolar": [
           {
            "marker": {
             "colorbar": {
              "outlinewidth": 0,
              "ticks": ""
             }
            },
            "type": "scatterpolar"
           }
          ],
          "scatterpolargl": [
           {
            "marker": {
             "colorbar": {
              "outlinewidth": 0,
              "ticks": ""
             }
            },
            "type": "scatterpolargl"
           }
          ],
          "scatterternary": [
           {
            "marker": {
             "colorbar": {
              "outlinewidth": 0,
              "ticks": ""
             }
            },
            "type": "scatterternary"
           }
          ],
          "surface": [
           {
            "colorbar": {
             "outlinewidth": 0,
             "ticks": ""
            },
            "colorscale": [
             [
              0,
              "#0d0887"
             ],
             [
              0.1111111111111111,
              "#46039f"
             ],
             [
              0.2222222222222222,
              "#7201a8"
             ],
             [
              0.3333333333333333,
              "#9c179e"
             ],
             [
              0.4444444444444444,
              "#bd3786"
             ],
             [
              0.5555555555555556,
              "#d8576b"
             ],
             [
              0.6666666666666666,
              "#ed7953"
             ],
             [
              0.7777777777777778,
              "#fb9f3a"
             ],
             [
              0.8888888888888888,
              "#fdca26"
             ],
             [
              1,
              "#f0f921"
             ]
            ],
            "type": "surface"
           }
          ],
          "table": [
           {
            "cells": {
             "fill": {
              "color": "#EBF0F8"
             },
             "line": {
              "color": "white"
             }
            },
            "header": {
             "fill": {
              "color": "#C8D4E3"
             },
             "line": {
              "color": "white"
             }
            },
            "type": "table"
           }
          ]
         },
         "layout": {
          "annotationdefaults": {
           "arrowcolor": "#2a3f5f",
           "arrowhead": 0,
           "arrowwidth": 1
          },
          "autotypenumbers": "strict",
          "coloraxis": {
           "colorbar": {
            "outlinewidth": 0,
            "ticks": ""
           }
          },
          "colorscale": {
           "diverging": [
            [
             0,
             "#8e0152"
            ],
            [
             0.1,
             "#c51b7d"
            ],
            [
             0.2,
             "#de77ae"
            ],
            [
             0.3,
             "#f1b6da"
            ],
            [
             0.4,
             "#fde0ef"
            ],
            [
             0.5,
             "#f7f7f7"
            ],
            [
             0.6,
             "#e6f5d0"
            ],
            [
             0.7,
             "#b8e186"
            ],
            [
             0.8,
             "#7fbc41"
            ],
            [
             0.9,
             "#4d9221"
            ],
            [
             1,
             "#276419"
            ]
           ],
           "sequential": [
            [
             0,
             "#0d0887"
            ],
            [
             0.1111111111111111,
             "#46039f"
            ],
            [
             0.2222222222222222,
             "#7201a8"
            ],
            [
             0.3333333333333333,
             "#9c179e"
            ],
            [
             0.4444444444444444,
             "#bd3786"
            ],
            [
             0.5555555555555556,
             "#d8576b"
            ],
            [
             0.6666666666666666,
             "#ed7953"
            ],
            [
             0.7777777777777778,
             "#fb9f3a"
            ],
            [
             0.8888888888888888,
             "#fdca26"
            ],
            [
             1,
             "#f0f921"
            ]
           ],
           "sequentialminus": [
            [
             0,
             "#0d0887"
            ],
            [
             0.1111111111111111,
             "#46039f"
            ],
            [
             0.2222222222222222,
             "#7201a8"
            ],
            [
             0.3333333333333333,
             "#9c179e"
            ],
            [
             0.4444444444444444,
             "#bd3786"
            ],
            [
             0.5555555555555556,
             "#d8576b"
            ],
            [
             0.6666666666666666,
             "#ed7953"
            ],
            [
             0.7777777777777778,
             "#fb9f3a"
            ],
            [
             0.8888888888888888,
             "#fdca26"
            ],
            [
             1,
             "#f0f921"
            ]
           ]
          },
          "colorway": [
           "#636efa",
           "#EF553B",
           "#00cc96",
           "#ab63fa",
           "#FFA15A",
           "#19d3f3",
           "#FF6692",
           "#B6E880",
           "#FF97FF",
           "#FECB52"
          ],
          "font": {
           "color": "#2a3f5f"
          },
          "geo": {
           "bgcolor": "white",
           "lakecolor": "white",
           "landcolor": "#E5ECF6",
           "showlakes": true,
           "showland": true,
           "subunitcolor": "white"
          },
          "hoverlabel": {
           "align": "left"
          },
          "hovermode": "closest",
          "mapbox": {
           "style": "light"
          },
          "paper_bgcolor": "white",
          "plot_bgcolor": "#E5ECF6",
          "polar": {
           "angularaxis": {
            "gridcolor": "white",
            "linecolor": "white",
            "ticks": ""
           },
           "bgcolor": "#E5ECF6",
           "radialaxis": {
            "gridcolor": "white",
            "linecolor": "white",
            "ticks": ""
           }
          },
          "scene": {
           "xaxis": {
            "backgroundcolor": "#E5ECF6",
            "gridcolor": "white",
            "gridwidth": 2,
            "linecolor": "white",
            "showbackground": true,
            "ticks": "",
            "zerolinecolor": "white"
           },
           "yaxis": {
            "backgroundcolor": "#E5ECF6",
            "gridcolor": "white",
            "gridwidth": 2,
            "linecolor": "white",
            "showbackground": true,
            "ticks": "",
            "zerolinecolor": "white"
           },
           "zaxis": {
            "backgroundcolor": "#E5ECF6",
            "gridcolor": "white",
            "gridwidth": 2,
            "linecolor": "white",
            "showbackground": true,
            "ticks": "",
            "zerolinecolor": "white"
           }
          },
          "shapedefaults": {
           "line": {
            "color": "#2a3f5f"
           }
          },
          "ternary": {
           "aaxis": {
            "gridcolor": "white",
            "linecolor": "white",
            "ticks": ""
           },
           "baxis": {
            "gridcolor": "white",
            "linecolor": "white",
            "ticks": ""
           },
           "bgcolor": "#E5ECF6",
           "caxis": {
            "gridcolor": "white",
            "linecolor": "white",
            "ticks": ""
           }
          },
          "title": {
           "x": 0.05
          },
          "xaxis": {
           "automargin": true,
           "gridcolor": "white",
           "linecolor": "white",
           "ticks": "",
           "title": {
            "standoff": 15
           },
           "zerolinecolor": "white",
           "zerolinewidth": 2
          },
          "yaxis": {
           "automargin": true,
           "gridcolor": "white",
           "linecolor": "white",
           "ticks": "",
           "title": {
            "standoff": 15
           },
           "zerolinecolor": "white",
           "zerolinewidth": 2
          }
         }
        },
        "title": {
         "font": {
          "size": 30
         },
         "text": "Top 5 Damage-causing Climate Disasters",
         "x": 0.5
        },
        "width": 700,
        "xaxis": {
         "anchor": "y",
         "domain": [
          0,
          1
         ],
         "tickfont": {
          "size": 16
         },
         "title": {
          "text": ""
         }
        },
        "yaxis": {
         "anchor": "x",
         "domain": [
          0,
          1
         ],
         "side": "top",
         "tickfont": {
          "size": 16
         },
         "title": {
          "font": {
           "size": 20
          },
          "text": "Damage ($Billions)"
         }
        }
       }
      }
     },
     "metadata": {},
     "output_type": "display_data"
    }
   ],
   "source": [
    "event_type_damage = storm.groupby(['EVENT_TYPE'])['DAMAGE'].sum()\n",
    "event_type_damage.sort_values(ascending = False, inplace=True)\n",
    "event_type_damage = event_type_damage[:5]\n",
    "event_type_damage_label = list(event_type_damage.index)\n",
    "event_type_damage = [round(damage / 1000,1) for damage in event_type_damage]\n",
    "plot_bar_chart(event_type_damage_label, event_type_damage, 'Top 5 Damage-causing Climate Disasters','Damage ($Billions)','Top 5 Damage-causing Climate Disasters.html')"
   ]
  },
  {
   "cell_type": "code",
   "execution_count": 16,
   "metadata": {},
   "outputs": [],
   "source": [
    "state_freq = storm.groupby('STATE')['EVENT_ID'].count()\n",
    "state_damage = storm.groupby('STATE')['DAMAGE'].sum()\n",
    "state_disaster = pd.merge(state_freq, state_damage, left_index=True, right_index=True)\n",
    "state_disaster.reset_index(inplace=True)\n",
    "state_disaster.rename(columns={'EVENT_ID':'EVENT', 'STATE':'state'}, inplace=True)\n",
    "state_disaster['DAMAGE'] = state_disaster['DAMAGE']/1000"
   ]
  },
  {
   "cell_type": "code",
   "execution_count": 17,
   "metadata": {},
   "outputs": [],
   "source": [
    "gdf = gdf.merge(state_disaster,left_on='NAME',right_on='state')"
   ]
  },
  {
   "cell_type": "code",
   "execution_count": 18,
   "metadata": {},
   "outputs": [
    {
     "ename": "AssertionError",
     "evalue": "",
     "output_type": "error",
     "traceback": [
      "\u001b[1;31m---------------------------------------------------------------------------\u001b[0m",
      "\u001b[1;31mAssertionError\u001b[0m                            Traceback (most recent call last)",
      "\u001b[1;32m~\\AppData\\Local\\Temp/ipykernel_17584/3267854856.py\u001b[0m in \u001b[0;36m<module>\u001b[1;34m\u001b[0m\n\u001b[0;32m      2\u001b[0m \u001b[0mlabel\u001b[0m \u001b[1;33m=\u001b[0m \u001b[1;34m'Frequency'\u001b[0m\u001b[1;33m\u001b[0m\u001b[1;33m\u001b[0m\u001b[0m\n\u001b[0;32m      3\u001b[0m \u001b[0msave_name\u001b[0m \u001b[1;33m=\u001b[0m \u001b[1;34m'/disasters_frequency_by_state_1980_2023.png'\u001b[0m\u001b[1;33m\u001b[0m\u001b[1;33m\u001b[0m\u001b[0m\n\u001b[1;32m----> 4\u001b[1;33m \u001b[0mplot_disasters_map\u001b[0m\u001b[1;33m(\u001b[0m\u001b[0mgdf\u001b[0m\u001b[1;33m,\u001b[0m \u001b[0mvariable\u001b[0m\u001b[1;33m,\u001b[0m \u001b[0mlabel\u001b[0m\u001b[1;33m,\u001b[0m \u001b[0msave_name\u001b[0m\u001b[1;33m,\u001b[0m \u001b[1;34m'Climate Disasters in US 1980-2023'\u001b[0m\u001b[1;33m,\u001b[0m \u001b[1;34m\"Data: NOAA's Storm Events Database\\nhttps://www.ncdc.noaa.gov/stormevents/ftp.jsp\"\u001b[0m\u001b[1;33m)\u001b[0m\u001b[1;33m\u001b[0m\u001b[1;33m\u001b[0m\u001b[0m\n\u001b[0m",
      "\u001b[1;32md:\\UCSD\\ece143\\Project\\ECE143-The-Impact-of-Natural-Disasters-on-U.S.-Real-Estate-Prices\\scripts\\mpl_plots.py\u001b[0m in \u001b[0;36mplot_disasters_map\u001b[1;34m(gdf, variable, label, save_name, title1, anno)\u001b[0m\n\u001b[0;32m    141\u001b[0m     \u001b[0mvmin\u001b[0m\u001b[1;33m,\u001b[0m \u001b[0mvmax\u001b[0m \u001b[1;33m=\u001b[0m \u001b[0mgdf\u001b[0m\u001b[1;33m[\u001b[0m\u001b[0mvariable\u001b[0m\u001b[1;33m]\u001b[0m\u001b[1;33m.\u001b[0m\u001b[0mmin\u001b[0m\u001b[1;33m(\u001b[0m\u001b[1;33m)\u001b[0m\u001b[1;33m,\u001b[0m \u001b[0mgdf\u001b[0m\u001b[1;33m[\u001b[0m\u001b[0mvariable\u001b[0m\u001b[1;33m]\u001b[0m\u001b[1;33m.\u001b[0m\u001b[0mmax\u001b[0m\u001b[1;33m(\u001b[0m\u001b[1;33m)\u001b[0m\u001b[1;33m\u001b[0m\u001b[1;33m\u001b[0m\u001b[0m\n\u001b[0;32m    142\u001b[0m     \u001b[0mcolormap\u001b[0m \u001b[1;33m=\u001b[0m \u001b[1;34m\"YlOrBr\"\u001b[0m\u001b[1;33m\u001b[0m\u001b[1;33m\u001b[0m\u001b[0m\n\u001b[1;32m--> 143\u001b[1;33m     \u001b[0mgdf\u001b[0m \u001b[1;33m=\u001b[0m \u001b[0mmakeColorColumn\u001b[0m\u001b[1;33m(\u001b[0m\u001b[0mgdf\u001b[0m\u001b[1;33m,\u001b[0m \u001b[0mvariable\u001b[0m\u001b[1;33m,\u001b[0m \u001b[0mvmin\u001b[0m\u001b[1;33m,\u001b[0m \u001b[0mvmax\u001b[0m\u001b[1;33m)\u001b[0m\u001b[1;33m\u001b[0m\u001b[1;33m\u001b[0m\u001b[0m\n\u001b[0m\u001b[0;32m    144\u001b[0m \u001b[1;33m\u001b[0m\u001b[0m\n\u001b[0;32m    145\u001b[0m     \u001b[1;31m# create \"visframe\" as a re-projected gdf using EPSG 2163\u001b[0m\u001b[1;33m\u001b[0m\u001b[1;33m\u001b[0m\u001b[0m\n",
      "\u001b[1;32md:\\UCSD\\ece143\\Project\\ECE143-The-Impact-of-Natural-Disasters-on-U.S.-Real-Estate-Prices\\scripts\\clean.py\u001b[0m in \u001b[0;36mmakeColorColumn\u001b[1;34m(gdf, variable, vmin, vmax)\u001b[0m\n\u001b[0;32m     48\u001b[0m     \u001b[1;33m-\u001b[0m \u001b[0mpd\u001b[0m\u001b[1;33m.\u001b[0m\u001b[0mDataFrame\u001b[0m\u001b[1;33m:\u001b[0m \u001b[0mThe\u001b[0m \u001b[0mGeoDataFrame\u001b[0m \u001b[1;32mwith\u001b[0m \u001b[0mthe\u001b[0m \u001b[0madded\u001b[0m \u001b[1;34m'value_determined_color'\u001b[0m \u001b[0mcolumn\u001b[0m\u001b[1;33m.\u001b[0m\u001b[1;33m\u001b[0m\u001b[1;33m\u001b[0m\u001b[0m\n\u001b[0;32m     49\u001b[0m     \"\"\"\n\u001b[1;32m---> 50\u001b[1;33m     \u001b[1;32massert\u001b[0m \u001b[0misinstance\u001b[0m\u001b[1;33m(\u001b[0m\u001b[0mgdf\u001b[0m\u001b[1;33m,\u001b[0m \u001b[0mpd\u001b[0m\u001b[1;33m.\u001b[0m\u001b[0mDataFrame\u001b[0m\u001b[1;33m)\u001b[0m \u001b[1;32mand\u001b[0m \u001b[0misinstance\u001b[0m\u001b[1;33m(\u001b[0m\u001b[0mvariable\u001b[0m\u001b[1;33m,\u001b[0m \u001b[0mstr\u001b[0m\u001b[1;33m)\u001b[0m \u001b[1;32mand\u001b[0m \u001b[0misinstance\u001b[0m\u001b[1;33m(\u001b[0m\u001b[0mvmin\u001b[0m\u001b[1;33m,\u001b[0m \u001b[1;33m(\u001b[0m\u001b[0mint\u001b[0m\u001b[1;33m,\u001b[0m \u001b[0mfloat\u001b[0m\u001b[1;33m)\u001b[0m\u001b[1;33m)\u001b[0m \u001b[1;32mand\u001b[0m \u001b[0misinstance\u001b[0m\u001b[1;33m(\u001b[0m\u001b[0mvmax\u001b[0m\u001b[1;33m,\u001b[0m \u001b[1;33m(\u001b[0m\u001b[0mint\u001b[0m\u001b[1;33m,\u001b[0m \u001b[0mfloat\u001b[0m\u001b[1;33m)\u001b[0m\u001b[1;33m)\u001b[0m\u001b[1;33m\u001b[0m\u001b[1;33m\u001b[0m\u001b[0m\n\u001b[0m\u001b[0;32m     51\u001b[0m \u001b[1;33m\u001b[0m\u001b[0m\n\u001b[0;32m     52\u001b[0m     \u001b[0mnorm\u001b[0m \u001b[1;33m=\u001b[0m \u001b[0mmcolors\u001b[0m\u001b[1;33m.\u001b[0m\u001b[0mNormalize\u001b[0m\u001b[1;33m(\u001b[0m\u001b[0mvmin\u001b[0m\u001b[1;33m=\u001b[0m\u001b[0mvmin\u001b[0m\u001b[1;33m,\u001b[0m \u001b[0mvmax\u001b[0m\u001b[1;33m=\u001b[0m\u001b[0mvmax\u001b[0m\u001b[1;33m,\u001b[0m \u001b[0mclip\u001b[0m\u001b[1;33m=\u001b[0m\u001b[1;32mTrue\u001b[0m\u001b[1;33m)\u001b[0m\u001b[1;33m\u001b[0m\u001b[1;33m\u001b[0m\u001b[0m\n",
      "\u001b[1;31mAssertionError\u001b[0m: "
     ]
    }
   ],
   "source": [
    "variable = 'EVENT'\n",
    "label = 'Frequency'\n",
    "save_name = '/disasters_frequency_by_state_1980_2023.png'\n",
    "plot_disasters_map(gdf, variable, label, save_name, 'Climate Disasters in US 1980-2023', \"Data: NOAA's Storm Events Database\\nhttps://www.ncdc.noaa.gov/stormevents/ftp.jsp\")"
   ]
  },
  {
   "cell_type": "code",
   "execution_count": null,
   "metadata": {},
   "outputs": [],
   "source": [
    "variable = 'DAMAGE'\n",
    "label = 'Damage ($Billions)'\n",
    "save_name = '/disasters_damage_by_state_1980_2023.png'\n",
    "plot_disasters_map(gdf, variable, label, save_name, 'Climate Disasters in US 1980-2023', \"Data: NOAA's Storm Events Database\\nhttps://www.ncdc.noaa.gov/stormevents/ftp.jsp\")"
   ]
  },
  {
   "cell_type": "code",
   "execution_count": null,
   "metadata": {},
   "outputs": [],
   "source": [
    "hpi_county = read_excel_file(\"/dataset/HPI_AT_BDL_county.xlsx\", 6)\n",
    "hpi_county.head()"
   ]
  },
  {
   "cell_type": "code",
   "execution_count": null,
   "metadata": {},
   "outputs": [],
   "source": [
    "hpi_county['Year'] = hpi_county['Year'].astype(int)\n",
    "hpi_county.sort_values(by=['State','County', 'Year'], inplace=True)\n",
    "hpi_county['Annual Change (%)'] = pd.to_numeric(hpi_county['Annual Change (%)'], errors='coerce')\n",
    "hpi_county['HPI'] = pd.to_numeric(hpi_county['HPI'], errors='coerce')\n",
    "hpi_county['lag1_hpi_change'] = (hpi_county.groupby(['State','County'])['HPI'].shift(periods=-1) / hpi_county.groupby(['State','County'])['HPI'].shift(periods=1) - 1) * 100\n",
    "hpi_county['lag3_hpi_change'] = (hpi_county.groupby(['State','County'])['HPI'].shift(periods=-3) / hpi_county.groupby(['State','County'])['HPI'].shift(periods=1) - 1) * 100\n",
    "hpi_county['lag5_hpi_change'] = (hpi_county.groupby(['State','County'])['HPI'].shift(periods=-5) / hpi_county.groupby(['State','County'])['HPI'].shift(periods=1) - 1) * 100\n",
    "hpi_county['lag10_hpi_change'] = (hpi_county.groupby(['State','County'])['HPI'].shift(periods=-10) / hpi_county.groupby(['State','County'])['HPI'].shift(periods=1) - 1) * 100\n",
    "hpi_county = hpi_county[hpi_county['Year'] >= 1980]"
   ]
  },
  {
   "cell_type": "code",
   "execution_count": null,
   "metadata": {},
   "outputs": [],
   "source": [
    "hpi_county.groupby(['State', 'County']).size()"
   ]
  },
  {
   "cell_type": "code",
   "execution_count": null,
   "metadata": {},
   "outputs": [],
   "source": [
    "hpi_county.reset_index(inplace=True)\n",
    "hpi_county.drop_duplicates(subset=['State', 'County', 'Year'], keep='first', inplace=True)"
   ]
  },
  {
   "cell_type": "code",
   "execution_count": null,
   "metadata": {},
   "outputs": [],
   "source": [
    "avg_hpi_year = hpi_county.groupby(['Year'])['HPI'].mean()\n",
    "avg_hpi_year = avg_hpi_year / avg_hpi_year[1980] * 100"
   ]
  },
  {
   "cell_type": "code",
   "execution_count": null,
   "metadata": {},
   "outputs": [],
   "source": [
    "plot_scatter_line(avg_hpi_year.index, avg_hpi_year.values, name='Average HPI', title='Average House Price Index of US Counties 1980-2023', x_title='Year', y_title=\"Average HPI\", filename='Average House Price Index of US Counties 1980-2023.html')"
   ]
  },
  {
   "cell_type": "code",
   "execution_count": null,
   "metadata": {},
   "outputs": [],
   "source": [
    "heatmap_hpi = hpi_county.pivot_table(values='HPI', index=['State', 'County'], columns='Year')"
   ]
  },
  {
   "cell_type": "code",
   "execution_count": null,
   "metadata": {},
   "outputs": [],
   "source": [
    "plot_heatmap(heatmap_hpi, title='House Price Index of US Counties 1980-2023', x_title='Year', y_title='County', filename='House Price Index of US Counties 1980-2023.html')"
   ]
  },
  {
   "cell_type": "code",
   "execution_count": null,
   "metadata": {},
   "outputs": [],
   "source": [
    "plot_two_scatter_lines(year_list, year_freq, avg_hpi_year.values, name1='Frequency', name2=\"House Price\", title='Disasters Frequency & House Price Index of US 1980-2023', x_title='Year', y_title1=\"Frequency\", y_title2='House Price', filename='Disasters Frequency & House Price Index of US 1980-2023.html')"
   ]
  },
  {
   "cell_type": "code",
   "execution_count": null,
   "metadata": {},
   "outputs": [],
   "source": [
    "county_freq = storm.groupby(['STUSPS','CZ_NAME','YEAR'])['EVENT_ID'].count()\n",
    "county_damage = storm.groupby(['STUSPS','CZ_NAME','YEAR'])['DAMAGE'].sum()\n",
    "county_year = pd.merge(county_freq, county_damage, left_index=True, right_index=True)\n",
    "county_year.reset_index(inplace=True)\n",
    "county_year['CZ_NAME'] = county_year['CZ_NAME'].str.title()\n",
    "county_year.rename(columns={'EVENT_ID':'FREQ'}, inplace=True)"
   ]
  },
  {
   "cell_type": "code",
   "execution_count": null,
   "metadata": {},
   "outputs": [],
   "source": [
    "county_storm_hpi = pd.merge(county_year, hpi_county, left_on=['STUSPS','CZ_NAME','YEAR'], right_on=['State','County','Year'], how = 'right')\n",
    "print(county_storm_hpi.duplicated(subset=['State', 'County', 'Year'], keep=False).sum())\n",
    "county_storm_hpi.drop_duplicates(subset=['State', 'County', 'Year'], keep='first', inplace=True)"
   ]
  },
  {
   "cell_type": "code",
   "execution_count": null,
   "metadata": {},
   "outputs": [],
   "source": [
    "storm_hpi = county_storm_hpi[ ~ (county_storm_hpi['Year'] < 1980)]\n",
    "storm_hpi['DAMAGE'] = storm_hpi['DAMAGE'].fillna(0)# If a county of a year has nan value, means this county didn't have disasters this year.\n",
    "storm_hpi['FREQ'] = storm_hpi['FREQ'].fillna(0)\n",
    "storm_hpi.sort_values(by=['State','County', 'Year'], inplace=True)\n",
    "storm_hpi['lag_damage'] = storm_hpi.groupby(['State','County'])['DAMAGE'].shift(periods=1)\n",
    "storm_hpi['lag_freq'] = storm_hpi.groupby(['State','County'])['FREQ'].shift(periods=1)\n",
    "storm_hpi['damage_change'] = storm_hpi['DAMAGE'] - storm_hpi['lag_damage']\n",
    "storm_hpi['freq_change'] = storm_hpi['FREQ'] - storm_hpi['lag_freq']\n",
    "storm_hpi.head()"
   ]
  },
  {
   "cell_type": "code",
   "execution_count": null,
   "metadata": {},
   "outputs": [],
   "source": [
    "gdf = read_gpd_file(\"/dataset/cb_2022_us_county_500k\")\n",
    "gdf_polygon = gdf[['STUSPS','NAME','geometry']]\n",
    "storm_hpi = pd.merge(storm_hpi, gdf_polygon, left_on=['State','County'], right_on=['STUSPS','NAME'], how = 'left')\n",
    "storm_hpi.drop_duplicates(subset=['State', 'County', 'Year'], keep='first', inplace=True)\n",
    "storm_hpi.dropna(subset=['geometry'], inplace=True)\n",
    "data = storm_hpi.copy()"
   ]
  },
  {
   "cell_type": "code",
   "execution_count": null,
   "metadata": {},
   "outputs": [],
   "source": [
    "damage_hpi_corr = []\n",
    "damage_hpi_p = []\n",
    "freq_hpi_corr = []\n",
    "freq_hpi_p = []\n",
    "damage_c_hpi_corr = []\n",
    "damage_c_hpi_p = []\n",
    "freq_c_hpi_corr = []\n",
    "freq_c_hpi_p = []\n",
    "col = ['Annual Change (%)','lag1_hpi_change','lag3_hpi_change','lag5_hpi_change','lag10_hpi_change']\n",
    "storm_hpi = data.copy()\n",
    "for i in col:\n",
    "    storm_hpi.dropna(subset=[i], inplace=True)\n",
    "    corr, p_value = cal_pearsonr(storm_hpi['DAMAGE'], storm_hpi[i])\n",
    "    damage_hpi_corr.append(corr)\n",
    "    damage_hpi_p.append(p_value)\n",
    "    corr, p_value = cal_pearsonr(storm_hpi['FREQ'], storm_hpi[i])\n",
    "    freq_hpi_corr.append(corr)\n",
    "    freq_hpi_p.append(p_value)\n",
    "storm_hpi = data.copy()\n",
    "for i in col:\n",
    "    storm_hpi.dropna(subset=[i,'damage_change', 'freq_change'], inplace=True)\n",
    "    corr, p_value = cal_pearsonr(storm_hpi['damage_change'], storm_hpi[i])\n",
    "    damage_c_hpi_corr.append(corr)\n",
    "    damage_c_hpi_p.append(p_value)\n",
    "    corr, p_value = cal_pearsonr(storm_hpi['freq_change'], storm_hpi[i])\n",
    "    freq_c_hpi_corr.append(corr)\n",
    "    freq_c_hpi_p.append(p_value)"
   ]
  },
  {
   "cell_type": "code",
   "execution_count": null,
   "metadata": {},
   "outputs": [],
   "source": [
    "corr_data = [freq_hpi_corr, damage_hpi_corr]\n",
    "p_data = [freq_hpi_p, damage_hpi_p]\n",
    "corr_p = cal_corr_p(corr_data, p_data)"
   ]
  },
  {
   "cell_type": "code",
   "execution_count": null,
   "metadata": {},
   "outputs": [],
   "source": [
    "x = ['Disaster Year','1-Year Lag','3-Year Lag','5-Year Lag','10-Year Lag']\n",
    "y = ['Frequency','Damage']\n",
    "plot_correlation(corr_data, corr_p, x, y, title='Correlation Coefficient of Disasters & House Price Change', filename='Correlation Coefficient of Disasters & House Price Change.html')"
   ]
  },
  {
   "cell_type": "code",
   "execution_count": null,
   "metadata": {},
   "outputs": [],
   "source": [
    "storm_hpi = data.copy()\n",
    "county_freq = storm_hpi.groupby(['State', 'County'])['FREQ'].sum()\n",
    "county_freq = pd.DataFrame(county_freq)\n",
    "county_freq.reset_index(inplace=True)\n",
    "print(county_freq.shape)\n",
    "county_freq = pd.merge(county_freq, gdf_polygon, left_on=['State','County'], right_on=['STUSPS','NAME'], how = 'left')\n",
    "county_freq.drop_duplicates(subset=['State','County'], keep='first', inplace=True)\n",
    "county_freq.drop(columns=['STUSPS','NAME'], inplace=True)\n",
    "print(county_freq.shape)"
   ]
  },
  {
   "cell_type": "code",
   "execution_count": null,
   "metadata": {},
   "outputs": [],
   "source": [
    "quantile_25 = county_freq['FREQ'].quantile(0.25)\n",
    "quantile_75 = county_freq['FREQ'].quantile(0.75)\n",
    "county_freq_l = county_freq[county_freq['FREQ'] < quantile_25]\n",
    "county_freq_h = county_freq[county_freq['FREQ'] > quantile_75]\n",
    "print(county_freq_h.shape)\n",
    "print(county_freq_l.shape)\n",
    "county_freq_l.drop(columns=['FREQ'], inplace=True)\n",
    "county_freq_h.drop(columns=['FREQ'], inplace=True)\n",
    "county_freq_l = county_freq_l.reset_index(drop=True)"
   ]
  },
  {
   "cell_type": "code",
   "execution_count": null,
   "metadata": {},
   "outputs": [],
   "source": [
    "county_h = county_freq_h.copy()\n",
    "county_h['affected_level'] = 'high'\n",
    "county_l = county_freq_l.copy()\n",
    "county_l['affected_level'] = 'low'\n",
    "county_map = pd.concat([county_h, county_l], axis=0)\n",
    "county_map.drop(columns='geometry', inplace=True)\n",
    "gdf = read_gpd_file(\"/dataset/cb_2022_us_county_500k\")\n",
    "gdf = pd.merge(gdf, county_map,left_on=['STUSPS','NAME'],right_on=['State','County'],how='left')\n",
    "gdf.head()"
   ]
  },
  {
   "cell_type": "code",
   "execution_count": null,
   "metadata": {},
   "outputs": [],
   "source": [
    "gdf.drop_duplicates(subset=['STUSPS','NAME'], keep='first', inplace=True)\n",
    "gdf = gdf[~ gdf['STATE_NAME'].isin(['Commonwealth of the Northern Mariana Islands', 'District of Columbia', 'United States Virgin Islands','American Samoa','Guam','Hawaii','Alaska'])]\n",
    "gdf.shape"
   ]
  },
  {
   "cell_type": "code",
   "execution_count": null,
   "metadata": {},
   "outputs": [],
   "source": [
    "save_name = '/disasters_affected_level_by_county_1980_2023.png'\n",
    "# plot_disasters_map1(gdf, save_name, 'Disasters Distriution: \\nHeavily-affected Counties VS Less-affected Counties in US', 'Heavily-affected', 'Less-affected')"
   ]
  },
  {
   "cell_type": "code",
   "execution_count": null,
   "metadata": {},
   "outputs": [],
   "source": [
    "county_h = get_nearest_county(county_freq_h, county_freq_l)\n",
    "county_h.drop(columns='geometry', inplace=True)\n",
    "storm_hpi_h = pd.merge(storm_hpi, county_h, on=['State','County'], how='inner')\n",
    "print(storm_hpi_h.shape)\n",
    "keep_cols = ['FREQ', 'DAMAGE', 'State', 'County','Year', 'Annual Change (%)', 'HPI','lag1_hpi_change', 'lag3_hpi_change','lag5_hpi_change', 'lag10_hpi_change','lag_damage', 'lag_freq', 'damage_change', 'freq_change','geometry', 'neighbor_state', 'neighbor_county',\n",
    "       'neighbor_distance']\n",
    "storm_hpi_h = storm_hpi_h[keep_cols]\n",
    "storm_hpi_h.shape\n",
    "storm_hpi_l =storm_hpi[['FREQ', 'DAMAGE', 'State', 'County','Year', 'Annual Change (%)', 'HPI','lag1_hpi_change', 'lag3_hpi_change','lag5_hpi_change', 'lag10_hpi_change','lag_damage', 'lag_freq', 'damage_change', 'freq_change']]\n",
    "storm_hpi_h = pd.merge(storm_hpi_h, storm_hpi_l, left_on=['neighbor_state', 'neighbor_county', 'Year'], right_on=['State', 'County','Year'], suffixes=('_h', '_l'))\n",
    "storm_hpi_ttest_h= storm_hpi_h.copy()\n",
    "storm_hpi_h.head()"
   ]
  },
  {
   "cell_type": "code",
   "execution_count": null,
   "metadata": {},
   "outputs": [],
   "source": [
    "h_year = storm_hpi_h.groupby('Year')['Annual Change (%)_h'].mean()\n",
    "l_year = storm_hpi_h.groupby('Year')['Annual Change (%)_l'].mean()"
   ]
  },
  {
   "cell_type": "code",
   "execution_count": null,
   "metadata": {},
   "outputs": [],
   "source": [
    "name1 = 'Heavily-affected Counties'\n",
    "name2 = 'Neighboring Less-affected Counties'\n",
    "title = \"Average House Price Change (%) <br>of Disasters' Happened Year\"\n",
    "filename = \"Average House Price Change for Disasters Happened Year\"\n",
    "legend = dict(x=0.02, y=1.0, font=dict(size=16))\n",
    "plot_two_lines(h_year.index,h_year.index, h_year.values, l_year.values, name1, name2, title, \"Year\",\"Percentage\", legend, filename+'.html')"
   ]
  },
  {
   "cell_type": "code",
   "execution_count": null,
   "metadata": {},
   "outputs": [],
   "source": [
    "h_year_10 = storm_hpi_h.groupby('Year')['lag10_hpi_change_h'].mean()\n",
    "l_year_10 = storm_hpi_h.groupby('Year')['lag10_hpi_change_l'].mean()\n",
    "h_year_10.dropna(inplace=True)\n",
    "l_year_10.dropna(inplace=True)\n",
    "name1 = 'Heavily-affected Counties'\n",
    "name2 = 'Neighboring Less-affected Counties'\n",
    "title = \"Average House Price Change (%) <br>of 10-Year Lag after Disasters' Happened\"\n",
    "filename = \"Average House Price Change for 10-Year Lag after Disasters Happened\"\n",
    "legend = dict(x=0.02, y=0.02, font=dict(size=16))\n",
    "year_list = [i for i in range(1990, 2023)]\n",
    "plot_two_lines(year_list,year_list, h_year_10.values, l_year_10.values, name1, name2, title, \"Year\",\"Percentage\", legend, title+'.html')"
   ]
  },
  {
   "cell_type": "code",
   "execution_count": null,
   "metadata": {},
   "outputs": [],
   "source": [
    "cols = [('Annual Change (%)_h','Annual Change (%)_l'),('lag1_hpi_change_h','lag1_hpi_change_l'),('lag3_hpi_change_h','lag3_hpi_change_l'),('lag5_hpi_change_h','lag5_hpi_change_l'),('lag10_hpi_change_h','lag10_hpi_change_l')]\n",
    "storm_hpi_h = storm_hpi_ttest_h.copy()\n",
    "mean_diff_freq,t_freq,p_freq = cal_freq(cols, storm_hpi)"
   ]
  },
  {
   "cell_type": "code",
   "execution_count": null,
   "metadata": {},
   "outputs": [],
   "source": [
    "year_list = ['Disaster Year','1-Year Lag','3-Year Lag','5-Year Lag','10-Year Lag']\n",
    "mean_diff_freq = [round(f,2) for f in mean_diff_freq]\n",
    "freq_labels = [f\"{diff} {'***' if p < 0.01 else '**' if p < 0.05 else '*' if p < 0.1 else ''}\" for diff, p in zip(mean_diff_freq, p_freq)]"
   ]
  },
  {
   "cell_type": "code",
   "execution_count": null,
   "metadata": {},
   "outputs": [],
   "source": [
    "plot_reverse_bars(year_list, mean_diff_freq, freq_labels, \"Frequency\", 'Difference of House Price Change (%):<br> Heavily-affected Counties minus Neighboring Less-affected Counties', 'Year', 'Difference(%)', 'Difference of House Price Change Heavily-affected Counties minus Neighboring Less-affected Counties.html')"
   ]
  }
 ],
 "metadata": {
  "kernelspec": {
   "display_name": "Python 3",
   "language": "python",
   "name": "python3"
  },
  "language_info": {
   "codemirror_mode": {
    "name": "ipython",
    "version": 3
   },
   "file_extension": ".py",
   "mimetype": "text/x-python",
   "name": "python",
   "nbconvert_exporter": "python",
   "pygments_lexer": "ipython3",
   "version": "3.10.11"
  }
 },
 "nbformat": 4,
 "nbformat_minor": 2
}
